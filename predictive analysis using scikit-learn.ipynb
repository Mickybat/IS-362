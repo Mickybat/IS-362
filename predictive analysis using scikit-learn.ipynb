{
 "cells": [
  {
   "cell_type": "code",
   "execution_count": 13,
   "id": "88ac4975",
   "metadata": {},
   "outputs": [
    {
     "data": {
      "text/html": [
       "<div>\n",
       "<style scoped>\n",
       "    .dataframe tbody tr th:only-of-type {\n",
       "        vertical-align: middle;\n",
       "    }\n",
       "\n",
       "    .dataframe tbody tr th {\n",
       "        vertical-align: top;\n",
       "    }\n",
       "\n",
       "    .dataframe thead th {\n",
       "        text-align: right;\n",
       "    }\n",
       "</style>\n",
       "<table border=\"1\" class=\"dataframe\">\n",
       "  <thead>\n",
       "    <tr style=\"text-align: right;\">\n",
       "      <th></th>\n",
       "      <th>Unnamed: 0</th>\n",
       "      <th>class</th>\n",
       "      <th>odor</th>\n",
       "      <th>cap-color</th>\n",
       "    </tr>\n",
       "  </thead>\n",
       "  <tbody>\n",
       "    <tr>\n",
       "      <th>0</th>\n",
       "      <td>0</td>\n",
       "      <td>2</td>\n",
       "      <td>17</td>\n",
       "      <td>21</td>\n",
       "    </tr>\n",
       "    <tr>\n",
       "      <th>1</th>\n",
       "      <td>1</td>\n",
       "      <td>1</td>\n",
       "      <td>11</td>\n",
       "      <td>30</td>\n",
       "    </tr>\n",
       "    <tr>\n",
       "      <th>2</th>\n",
       "      <td>2</td>\n",
       "      <td>1</td>\n",
       "      <td>12</td>\n",
       "      <td>29</td>\n",
       "    </tr>\n",
       "    <tr>\n",
       "      <th>3</th>\n",
       "      <td>3</td>\n",
       "      <td>2</td>\n",
       "      <td>17</td>\n",
       "      <td>29</td>\n",
       "    </tr>\n",
       "    <tr>\n",
       "      <th>4</th>\n",
       "      <td>4</td>\n",
       "      <td>1</td>\n",
       "      <td>10</td>\n",
       "      <td>24</td>\n",
       "    </tr>\n",
       "  </tbody>\n",
       "</table>\n",
       "</div>"
      ],
      "text/plain": [
       "   Unnamed: 0  class  odor  cap-color\n",
       "0           0      2    17         21\n",
       "1           1      1    11         30\n",
       "2           2      1    12         29\n",
       "3           3      2    17         29\n",
       "4           4      1    10         24"
      ]
     },
     "execution_count": 13,
     "metadata": {},
     "output_type": "execute_result"
    }
   ],
   "source": [
    "import pandas as pd\n",
    "import numpy as np \n",
    "from sklearn.neighbors import KNeighborsClassifier \n",
    "from sklearn.linear_model import LogisticRegression \n",
    "from sklearn import metrics   \n",
    "from sklearn.linear_model import LinearRegression\n",
    "from sklearn.model_selection import cross_val_score \n",
    "from sklearn.model_selection import GridSearchCV \n",
    "from sklearn.model_selection import train_test_split\n",
    "import warnings  \n",
    "warnings.filterwarnings('ignore')\n",
    "df = pd.read_csv('C:/dataflights/mushroom_data/mushroom_data.csv') \n",
    "df.head()"
   ]
  },
  {
   "cell_type": "markdown",
   "id": "aa5560a5",
   "metadata": {},
   "source": [
    "### Preparing X and Y using Pandas"
   ]
  },
  {
   "cell_type": "code",
   "execution_count": 14,
   "id": "71dcaacd",
   "metadata": {},
   "outputs": [],
   "source": [
    "X_odor = df['odor'].values.reshape(-1,1)\n",
    "X_cap_color = df['cap-color'].values.reshape(-1,1)\n",
    "y = df['class'] "
   ]
  },
  {
   "cell_type": "markdown",
   "id": "8105c3a3",
   "metadata": {},
   "source": [
    "### cross-validation for parameter tuning for odor"
   ]
  },
  {
   "cell_type": "code",
   "execution_count": 15,
   "id": "d4a00b50",
   "metadata": {},
   "outputs": [
    {
     "data": {
      "text/plain": [
       "GridSearchCV(cv=10, estimator=KNeighborsClassifier(),\n",
       "             param_grid={'n_neighbors': [1, 2, 3, 4, 5, 6, 7, 8, 9, 10, 11, 12,\n",
       "                                         13, 14, 15, 16, 17, 18, 19, 20, 21, 22,\n",
       "                                         23, 24, 25, 26, 27, 28, 29, 30]},\n",
       "             scoring='accuracy')"
      ]
     },
     "execution_count": 15,
     "metadata": {},
     "output_type": "execute_result"
    }
   ],
   "source": [
    "knn = KNeighborsClassifier(n_neighbors=5)\n",
    "k_range = list(range(1, 31)) \n",
    "param_grid = dict(n_neighbors=k_range) \n",
    "grid = GridSearchCV(knn, param_grid, cv=10, scoring='accuracy') \n",
    "grid.fit(X_odor, y)"
   ]
  },
  {
   "cell_type": "code",
   "execution_count": 16,
   "id": "2d125629",
   "metadata": {
    "scrolled": true
   },
   "outputs": [
    {
     "name": "stdout",
     "output_type": "stream",
     "text": [
      "0.9852239470670568\n",
      "{'n_neighbors': 1}\n",
      "KNeighborsClassifier(n_neighbors=1)\n"
     ]
    }
   ],
   "source": [
    "print(grid.best_score_)\n",
    "print(grid.best_params_) \n",
    "print(grid.best_estimator_)"
   ]
  },
  {
   "cell_type": "markdown",
   "id": "f5248863",
   "metadata": {},
   "source": [
    "### Cross-validation for parameter tuning for cap-color"
   ]
  },
  {
   "cell_type": "code",
   "execution_count": 17,
   "id": "a2008a9b",
   "metadata": {},
   "outputs": [
    {
     "data": {
      "text/plain": [
       "GridSearchCV(cv=10, estimator=KNeighborsClassifier(),\n",
       "             param_grid={'n_neighbors': [1, 2, 3, 4, 5, 6, 7, 8, 9, 10, 11, 12,\n",
       "                                         13, 14, 15, 16, 17, 18, 19, 20, 21, 22,\n",
       "                                         23, 24, 25, 26, 27, 28, 29, 30]},\n",
       "             scoring='accuracy')"
      ]
     },
     "execution_count": 17,
     "metadata": {},
     "output_type": "execute_result"
    }
   ],
   "source": [
    "k_range = list(range(1, 31)) \n",
    "param_grid = dict(n_neighbors=k_range) \n",
    "grid = GridSearchCV(knn, param_grid, cv=10, scoring='accuracy') \n",
    "grid.fit(X_cap_color, y) "
   ]
  },
  {
   "cell_type": "code",
   "execution_count": 18,
   "id": "d34f1531",
   "metadata": {},
   "outputs": [
    {
     "name": "stdout",
     "output_type": "stream",
     "text": [
      "0.5280583680221039\n",
      "{'n_neighbors': 27}\n",
      "KNeighborsClassifier(n_neighbors=27)\n"
     ]
    }
   ],
   "source": [
    "print(grid.best_score_)\n",
    "print(grid.best_params_) \n",
    "print(grid.best_estimator_)"
   ]
  },
  {
   "cell_type": "markdown",
   "id": "1adb080c",
   "metadata": {},
   "source": [
    "### Cross validation model selection for odor"
   ]
  },
  {
   "cell_type": "code",
   "execution_count": 19,
   "id": "84bf14ee",
   "metadata": {},
   "outputs": [
    {
     "name": "stdout",
     "output_type": "stream",
     "text": [
      "0.9852239470670568\n"
     ]
    }
   ],
   "source": [
    "##10-fold cross-validation with the best KNN model\n",
    "knn = KNeighborsClassifier(n_neighbors=1)\n",
    "print(cross_val_score(knn, X_odor, y, cv=10, scoring='accuracy').mean())"
   ]
  },
  {
   "cell_type": "code",
   "execution_count": 20,
   "id": "bc640ba9",
   "metadata": {},
   "outputs": [
    {
     "name": "stdout",
     "output_type": "stream",
     "text": [
      "0.9852239470670568\n"
     ]
    }
   ],
   "source": [
    "# 10-fold cross-validation with logistic regression \n",
    "logreg = LogisticRegression(solver='liblinear')\n",
    "print(cross_val_score(logreg, X_odor, y, cv=10, scoring='accuracy').mean())"
   ]
  },
  {
   "cell_type": "code",
   "execution_count": 21,
   "id": "e268dbad",
   "metadata": {},
   "outputs": [
    {
     "name": "stdout",
     "output_type": "stream",
     "text": [
      "0.23272104538619684\n"
     ]
    }
   ],
   "source": [
    "# Linear regression prediction and RMSE\n",
    "X_train, X_test, y_train, y_test = train_test_split(X_odor, y, random_state=1) \n",
    "linreg = LinearRegression() \n",
    "linreg.fit(X_train, y_train) \n",
    "y_pred = linreg.predict(X_test) \n",
    "print(np.sqrt(metrics.mean_squared_error(y_test, y_pred)))"
   ]
  },
  {
   "cell_type": "markdown",
   "id": "065b2c7c",
   "metadata": {},
   "source": [
    "### Cross validation model selection for cap-color"
   ]
  },
  {
   "cell_type": "code",
   "execution_count": 22,
   "id": "536406d7",
   "metadata": {},
   "outputs": [
    {
     "name": "stdout",
     "output_type": "stream",
     "text": [
      "0.5280583680221039\n"
     ]
    }
   ],
   "source": [
    "##10-fold cross-validation with the best KNN model\n",
    "knn = KNeighborsClassifier(n_neighbors=27)\n",
    "print(cross_val_score(knn, X_cap_color, y, cv=10, scoring='accuracy').mean())"
   ]
  },
  {
   "cell_type": "code",
   "execution_count": 23,
   "id": "29be182d",
   "metadata": {},
   "outputs": [
    {
     "name": "stdout",
     "output_type": "stream",
     "text": [
      "0.5679922624349396\n"
     ]
    }
   ],
   "source": [
    "# 10-fold cross-validation with logistic regression \n",
    "logreg = LogisticRegression(solver='liblinear')\n",
    "print(cross_val_score(logreg, X_cap_color, y, cv=10, scoring='accuracy').mean())"
   ]
  },
  {
   "cell_type": "code",
   "execution_count": 24,
   "id": "15f81a36",
   "metadata": {},
   "outputs": [
    {
     "name": "stdout",
     "output_type": "stream",
     "text": [
      "0.4994488239833032\n"
     ]
    }
   ],
   "source": [
    "# Linear regression prediction and RMSE\n",
    "X_train, X_test, y_train, y_test = train_test_split(X_cap_color, y, random_state=1) \n",
    "linreg = LinearRegression() \n",
    "linreg.fit(X_train, y_train) \n",
    "y_pred = linreg.predict(X_test) \n",
    "print(np.sqrt(metrics.mean_squared_error(y_test, y_pred)))"
   ]
  },
  {
   "cell_type": "markdown",
   "id": "80c2851a",
   "metadata": {},
   "source": [
    "## Conclusion \n",
    "- To determine which of the two predictor columns (odor and cap-color) most accurately predicts wether or not a mushroom is poisonous, I decided to run various model in order to see which one would make better predictions. As we can see by the results of the models, odor would be a better predictor of accuracy as the KNN and logistic regression models had an accuracy score of around .98 while the KNN and logistic regression models for the cap-color had scores of .53 and .57 respectively. I also chose to use linear regression in order to get the Root Mean Squared Error (RMSE) for Odor and Cap-color and as the results show, odor has a lower RMSE, which means it is more accurate as error is something we would want to minimize. A recommendation for further analysis would be to use logistic regression in order to predict if a mushroom is poisonous by cap-color as it has a higher accuracy score."
   ]
  }
 ],
 "metadata": {
  "kernelspec": {
   "display_name": "Python 3 (ipykernel)",
   "language": "python",
   "name": "python3"
  },
  "language_info": {
   "codemirror_mode": {
    "name": "ipython",
    "version": 3
   },
   "file_extension": ".py",
   "mimetype": "text/x-python",
   "name": "python",
   "nbconvert_exporter": "python",
   "pygments_lexer": "ipython3",
   "version": "3.9.13"
  }
 },
 "nbformat": 4,
 "nbformat_minor": 5
}
