{
 "cells": [
  {
   "cell_type": "code",
   "execution_count": 50,
   "id": "8d63ccc3",
   "metadata": {},
   "outputs": [
    {
     "data": {
      "text/html": [
       "<div>\n",
       "<style scoped>\n",
       "    .dataframe tbody tr th:only-of-type {\n",
       "        vertical-align: middle;\n",
       "    }\n",
       "\n",
       "    .dataframe tbody tr th {\n",
       "        vertical-align: top;\n",
       "    }\n",
       "\n",
       "    .dataframe thead th {\n",
       "        text-align: right;\n",
       "    }\n",
       "</style>\n",
       "<table border=\"1\" class=\"dataframe\">\n",
       "  <thead>\n",
       "    <tr style=\"text-align: right;\">\n",
       "      <th></th>\n",
       "      <th>airline</th>\n",
       "      <th>status</th>\n",
       "      <th>los_angeles</th>\n",
       "      <th>phoenix</th>\n",
       "      <th>san_diego</th>\n",
       "      <th>san_francisco</th>\n",
       "      <th>seattle</th>\n",
       "    </tr>\n",
       "  </thead>\n",
       "  <tbody>\n",
       "    <tr>\n",
       "      <th>0</th>\n",
       "      <td>ALASKA</td>\n",
       "      <td>ON TIME</td>\n",
       "      <td>497</td>\n",
       "      <td>221</td>\n",
       "      <td>212</td>\n",
       "      <td>503</td>\n",
       "      <td>1841</td>\n",
       "    </tr>\n",
       "    <tr>\n",
       "      <th>1</th>\n",
       "      <td>ALASKA</td>\n",
       "      <td>DELAYED</td>\n",
       "      <td>62</td>\n",
       "      <td>12</td>\n",
       "      <td>20</td>\n",
       "      <td>102</td>\n",
       "      <td>305</td>\n",
       "    </tr>\n",
       "    <tr>\n",
       "      <th>2</th>\n",
       "      <td>AM WEST</td>\n",
       "      <td>ON TIME</td>\n",
       "      <td>694</td>\n",
       "      <td>4840</td>\n",
       "      <td>383</td>\n",
       "      <td>320</td>\n",
       "      <td>201</td>\n",
       "    </tr>\n",
       "    <tr>\n",
       "      <th>3</th>\n",
       "      <td>AM WEST</td>\n",
       "      <td>DELAYED</td>\n",
       "      <td>117</td>\n",
       "      <td>415</td>\n",
       "      <td>65</td>\n",
       "      <td>129</td>\n",
       "      <td>61</td>\n",
       "    </tr>\n",
       "  </tbody>\n",
       "</table>\n",
       "</div>"
      ],
      "text/plain": [
       "   airline   status  los_angeles  phoenix  san_diego  san_francisco  seattle\n",
       "0   ALASKA  ON TIME          497      221        212            503     1841\n",
       "1   ALASKA  DELAYED           62       12         20            102      305\n",
       "2  AM WEST  ON TIME          694     4840        383            320      201\n",
       "3  AM WEST  DELAYED          117      415         65            129       61"
      ]
     },
     "execution_count": 50,
     "metadata": {},
     "output_type": "execute_result"
    }
   ],
   "source": [
    "import pandas as pd\n",
    "\n",
    "df = pd.read_csv('C:/dataflights/flights/two_airlines_.csv')\n",
    "df"
   ]
  },
  {
   "cell_type": "code",
   "execution_count": 51,
   "id": "e8fa97ac",
   "metadata": {},
   "outputs": [
    {
     "data": {
      "text/html": [
       "<div>\n",
       "<style scoped>\n",
       "    .dataframe tbody tr th:only-of-type {\n",
       "        vertical-align: middle;\n",
       "    }\n",
       "\n",
       "    .dataframe tbody tr th {\n",
       "        vertical-align: top;\n",
       "    }\n",
       "\n",
       "    .dataframe thead th {\n",
       "        text-align: right;\n",
       "    }\n",
       "</style>\n",
       "<table border=\"1\" class=\"dataframe\">\n",
       "  <thead>\n",
       "    <tr style=\"text-align: right;\">\n",
       "      <th></th>\n",
       "      <th>airline</th>\n",
       "      <th>status</th>\n",
       "      <th>los_angeles</th>\n",
       "      <th>phoenix</th>\n",
       "      <th>san_diego</th>\n",
       "      <th>san_francisco</th>\n",
       "      <th>seattle</th>\n",
       "    </tr>\n",
       "  </thead>\n",
       "  <tbody>\n",
       "    <tr>\n",
       "      <th>1</th>\n",
       "      <td>ALASKA</td>\n",
       "      <td>DELAYED</td>\n",
       "      <td>62</td>\n",
       "      <td>12</td>\n",
       "      <td>20</td>\n",
       "      <td>102</td>\n",
       "      <td>305</td>\n",
       "    </tr>\n",
       "    <tr>\n",
       "      <th>3</th>\n",
       "      <td>AM WEST</td>\n",
       "      <td>DELAYED</td>\n",
       "      <td>117</td>\n",
       "      <td>415</td>\n",
       "      <td>65</td>\n",
       "      <td>129</td>\n",
       "      <td>61</td>\n",
       "    </tr>\n",
       "  </tbody>\n",
       "</table>\n",
       "</div>"
      ],
      "text/plain": [
       "   airline   status  los_angeles  phoenix  san_diego  san_francisco  seattle\n",
       "1   ALASKA  DELAYED           62       12         20            102      305\n",
       "3  AM WEST  DELAYED          117      415         65            129       61"
      ]
     },
     "execution_count": 51,
     "metadata": {},
     "output_type": "execute_result"
    }
   ],
   "source": [
    "#Displaying the two rows that contain the delayed flights from Alaska and AM WEST by selecting the rows by index label \n",
    "# using .loc[]\n",
    "df.loc[[1,3]]"
   ]
  },
  {
   "cell_type": "code",
   "execution_count": 52,
   "id": "da46ecd5",
   "metadata": {},
   "outputs": [
    {
     "name": "stderr",
     "output_type": "stream",
     "text": [
      "C:\\Users\\micky\\AppData\\Local\\Temp\\ipykernel_28492\\4287674563.py:3: FutureWarning: Dropping of nuisance columns in DataFrame reductions (with 'numeric_only=None') is deprecated; in a future version this will raise TypeError.  Select only valid columns before calling the reduction.\n",
      "  tfd_alaska = df.loc[[1]].sum(axis=1)\n"
     ]
    },
    {
     "data": {
      "text/plain": [
       "1    501\n",
       "dtype: int64"
      ]
     },
     "execution_count": 52,
     "metadata": {},
     "output_type": "execute_result"
    }
   ],
   "source": [
    "# This code displays the sum of all the delayed flights by Alaska airlines by selecting the row with index 1 and adding \n",
    "# up all values by using sum()\n",
    "tfd_alaska = df.loc[[1]].sum(axis=1) \n",
    "tfd_alaska "
   ]
  },
  {
   "cell_type": "code",
   "execution_count": 53,
   "id": "c63e3ec2",
   "metadata": {},
   "outputs": [
    {
     "name": "stderr",
     "output_type": "stream",
     "text": [
      "C:\\Users\\micky\\AppData\\Local\\Temp\\ipykernel_28492\\1108079790.py:3: FutureWarning: Dropping of nuisance columns in DataFrame reductions (with 'numeric_only=None') is deprecated; in a future version this will raise TypeError.  Select only valid columns before calling the reduction.\n",
      "  tfd_amwest = df.loc[[3]].sum(axis=1)\n"
     ]
    },
    {
     "data": {
      "text/plain": [
       "3    787\n",
       "dtype: int64"
      ]
     },
     "execution_count": 53,
     "metadata": {},
     "output_type": "execute_result"
    }
   ],
   "source": [
    "# This code displays the sum of all the delayed flights by AM West airlines by selecting the row with index 3 and adding \n",
    "# up all values by using sum()\n",
    "tfd_amwest = df.loc[[3]].sum(axis=1) \n",
    "tfd_amwest"
   ]
  },
  {
   "cell_type": "code",
   "execution_count": 54,
   "id": "e26563af",
   "metadata": {},
   "outputs": [
    {
     "data": {
      "text/plain": [
       "1    13.0\n",
       "dtype: float64"
      ]
     },
     "execution_count": 54,
     "metadata": {},
     "output_type": "execute_result"
    }
   ],
   "source": [
    "# This code calculates the percentage of flights that were delayed by Alaska Airlines. To do so, I added up all flights \n",
    "# done by Alaska Airlines(tf_alaska) and divided the total delayed flights (tfd_alaska) by the total number of flights \n",
    "# (tf_alaska) and multiplied the result by 100 to obtain the percentage. \n",
    "tf_alaska = df.loc[[0,1]].sum(numeric_only=True)\n",
    "tf_alaska = tf_alaska.sum() \n",
    "tf_alaska\n",
    "delayedp_alaska = tfd_alaska / tf_alaska * 100 \n",
    "delayedp_alaska.round()"
   ]
  },
  {
   "cell_type": "code",
   "execution_count": 55,
   "id": "b0feb563",
   "metadata": {
    "scrolled": true
   },
   "outputs": [
    {
     "data": {
      "text/plain": [
       "3    11.0\n",
       "dtype: float64"
      ]
     },
     "execution_count": 55,
     "metadata": {},
     "output_type": "execute_result"
    }
   ],
   "source": [
    "# This code calculates the percentage of flights that were delayed by AM West Airlines. To do so, I added up all flights \n",
    "# done by AM West Airlines(tf_amwest) and divided the total delayed flights (tfd_amwest) by the total number of flights \n",
    "# (tf_amwest) and multiplied the result by 100 to obtain the percentage.\n",
    "tf_amwest = df.loc[[2,3]].sum(numeric_only=True)\n",
    "tf_amwest = tf_amwest.sum() \n",
    "tf_amwest\n",
    "delayedp_amwest = tfd_amwest / tf_amwest * 100 \n",
    "delayedp_amwest.round()"
   ]
  },
  {
   "cell_type": "code",
   "execution_count": 56,
   "id": "8306033f",
   "metadata": {
    "scrolled": true
   },
   "outputs": [
    {
     "name": "stderr",
     "output_type": "stream",
     "text": [
      "C:\\Users\\micky\\AppData\\Local\\Temp\\ipykernel_28492\\921830879.py:3: FutureWarning: Dropping of nuisance columns in DataFrame reductions (with 'numeric_only=None') is deprecated; in a future version this will raise TypeError.  Select only valid columns before calling the reduction.\n",
      "  maxd_alaska = df.loc[[1]].max(axis=1)\n"
     ]
    },
    {
     "data": {
      "text/plain": [
       "1    305\n",
       "dtype: int64"
      ]
     },
     "execution_count": 56,
     "metadata": {},
     "output_type": "execute_result"
    }
   ],
   "source": [
    "# This code uses the function max() to obtain the biggest value in index 1, which is the index with the delayed flights from\n",
    "# Alaska Airlines to see which city had the least amount of delays.\n",
    "maxd_alaska = df.loc[[1]].max(axis=1) \n",
    "maxd_alaska"
   ]
  },
  {
   "cell_type": "code",
   "execution_count": 57,
   "id": "f4bd52ea",
   "metadata": {},
   "outputs": [
    {
     "name": "stderr",
     "output_type": "stream",
     "text": [
      "C:\\Users\\micky\\AppData\\Local\\Temp\\ipykernel_28492\\2409191444.py:3: FutureWarning: Dropping of nuisance columns in DataFrame reductions (with 'numeric_only=None') is deprecated; in a future version this will raise TypeError.  Select only valid columns before calling the reduction.\n",
      "  mind_amwest = df.loc[[3]].min(axis=1)\n"
     ]
    },
    {
     "data": {
      "text/plain": [
       "3    61\n",
       "dtype: int64"
      ]
     },
     "execution_count": 57,
     "metadata": {},
     "output_type": "execute_result"
    }
   ],
   "source": [
    "# This code uses the function min() to obtain the smallest value in indext 3, which is the index with the delayed flights\n",
    "#from AM West airlines to see which city had the least amount of delays.\n",
    "mind_amwest = df.loc[[3]].min(axis=1) \n",
    "mind_amwest"
   ]
  },
  {
   "cell_type": "code",
   "execution_count": null,
   "id": "6692200f",
   "metadata": {},
   "outputs": [],
   "source": [
    " "
   ]
  },
  {
   "cell_type": "code",
   "execution_count": null,
   "id": "2d6b2fbd",
   "metadata": {},
   "outputs": [],
   "source": []
  },
  {
   "cell_type": "code",
   "execution_count": null,
   "id": "50800f71",
   "metadata": {},
   "outputs": [],
   "source": []
  }
 ],
 "metadata": {
  "kernelspec": {
   "display_name": "Python 3 (ipykernel)",
   "language": "python",
   "name": "python3"
  },
  "language_info": {
   "codemirror_mode": {
    "name": "ipython",
    "version": 3
   },
   "file_extension": ".py",
   "mimetype": "text/x-python",
   "name": "python",
   "nbconvert_exporter": "python",
   "pygments_lexer": "ipython3",
   "version": "3.9.13"
  }
 },
 "nbformat": 4,
 "nbformat_minor": 5
}
