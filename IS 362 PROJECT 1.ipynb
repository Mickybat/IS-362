{
 "cells": [
  {
   "cell_type": "code",
   "execution_count": 60,
   "id": "22d6d04c",
   "metadata": {},
   "outputs": [
    {
     "data": {
      "text/html": [
       "<div>\n",
       "<style scoped>\n",
       "    .dataframe tbody tr th:only-of-type {\n",
       "        vertical-align: middle;\n",
       "    }\n",
       "\n",
       "    .dataframe tbody tr th {\n",
       "        vertical-align: top;\n",
       "    }\n",
       "\n",
       "    .dataframe thead th {\n",
       "        text-align: right;\n",
       "    }\n",
       "</style>\n",
       "<table border=\"1\" class=\"dataframe\">\n",
       "  <thead>\n",
       "    <tr style=\"text-align: right;\">\n",
       "      <th></th>\n",
       "      <th>City</th>\n",
       "      <th>Alaska_ON_Time</th>\n",
       "      <th>Alaska_Delayed</th>\n",
       "      <th>AM_WEST_ON_Time</th>\n",
       "      <th>AM_WEST_Delayed</th>\n",
       "    </tr>\n",
       "  </thead>\n",
       "  <tbody>\n",
       "    <tr>\n",
       "      <th>0</th>\n",
       "      <td>Los Angeles</td>\n",
       "      <td>497</td>\n",
       "      <td>62</td>\n",
       "      <td>694</td>\n",
       "      <td>117</td>\n",
       "    </tr>\n",
       "    <tr>\n",
       "      <th>1</th>\n",
       "      <td>Phoenix</td>\n",
       "      <td>221</td>\n",
       "      <td>12</td>\n",
       "      <td>4840</td>\n",
       "      <td>415</td>\n",
       "    </tr>\n",
       "    <tr>\n",
       "      <th>2</th>\n",
       "      <td>San Diego</td>\n",
       "      <td>212</td>\n",
       "      <td>20</td>\n",
       "      <td>383</td>\n",
       "      <td>65</td>\n",
       "    </tr>\n",
       "    <tr>\n",
       "      <th>3</th>\n",
       "      <td>San Francisco</td>\n",
       "      <td>503</td>\n",
       "      <td>102</td>\n",
       "      <td>320</td>\n",
       "      <td>129</td>\n",
       "    </tr>\n",
       "    <tr>\n",
       "      <th>4</th>\n",
       "      <td>Seattle</td>\n",
       "      <td>1841</td>\n",
       "      <td>305</td>\n",
       "      <td>201</td>\n",
       "      <td>61</td>\n",
       "    </tr>\n",
       "  </tbody>\n",
       "</table>\n",
       "</div>"
      ],
      "text/plain": [
       "            City  Alaska_ON_Time  Alaska_Delayed  AM_WEST_ON_Time  \\\n",
       "0    Los Angeles             497              62              694   \n",
       "1        Phoenix             221              12             4840   \n",
       "2      San Diego             212              20              383   \n",
       "3  San Francisco             503             102              320   \n",
       "4        Seattle            1841             305              201   \n",
       "\n",
       "   AM_WEST_Delayed  \n",
       "0              117  \n",
       "1              415  \n",
       "2               65  \n",
       "3              129  \n",
       "4               61  "
      ]
     },
     "execution_count": 60,
     "metadata": {},
     "output_type": "execute_result"
    }
   ],
   "source": [
    "import pandas as pd\n",
    "\n",
    "df = pd.read_csv('C:/dataflights/flights/twoairlines.csv')\n",
    "df"
   ]
  },
  {
   "cell_type": "code",
   "execution_count": 61,
   "id": "244a9cd9",
   "metadata": {},
   "outputs": [
    {
     "data": {
      "text/plain": [
       "501"
      ]
     },
     "execution_count": 61,
     "metadata": {},
     "output_type": "execute_result"
    }
   ],
   "source": [
    "#This code displays the sum of all the delayed flights by Alaska airlines. To do so I created a variable and stored the \n",
    "# the sum of all the rows in the column 'Alaska_Delayed'\n",
    "alaska_total_flights_delayed = df['Alaska_Delayed'].sum() \n",
    "alaska_total_flights_delayed"
   ]
  },
  {
   "cell_type": "code",
   "execution_count": 62,
   "id": "6001a6be",
   "metadata": {},
   "outputs": [
    {
     "data": {
      "text/plain": [
       "787"
      ]
     },
     "execution_count": 62,
     "metadata": {},
     "output_type": "execute_result"
    }
   ],
   "source": [
    "#This code displays the sum of all the delayed flights by AmWest airlines. To do so I created a variable and stored the \n",
    "# the sum of all the rows in the column 'AM_WEST_Delayed'\n",
    "amwest_total_flights_delayed = df['AM_WEST_Delayed'].sum() \n",
    "amwest_total_flights_delayed"
   ]
  },
  {
   "cell_type": "code",
   "execution_count": 63,
   "id": "76956ce8",
   "metadata": {},
   "outputs": [
    {
     "data": {
      "text/plain": [
       "13.0"
      ]
     },
     "execution_count": 63,
     "metadata": {},
     "output_type": "execute_result"
    }
   ],
   "source": [
    "# This code calculates the percentage of all flights that were delayed by Alaska Airlines. To do so, I added up all flights \n",
    "# done by Alaska Airlines(total_alaska_flights) and divided the total of delayed flights (alaska_total_flights_delayed) \n",
    "#by the total number of flights (total_alaska_flights) and multiplied the result by 100 to obtain the percentage. \n",
    "total_alaska_flights = df['Alaska_ON_Time'] + df['Alaska_Delayed']\n",
    "total_alaska_flights = total_alaska_flights.sum() \n",
    "percentage_of_flights_delayed_alaska = alaska_total_flights_delayed / total_alaska_flights * 100 \n",
    "percentage_of_flights_delayed_alaska.round()"
   ]
  },
  {
   "cell_type": "code",
   "execution_count": 64,
   "id": "da4fadc4",
   "metadata": {},
   "outputs": [
    {
     "data": {
      "text/plain": [
       "11.0"
      ]
     },
     "execution_count": 64,
     "metadata": {},
     "output_type": "execute_result"
    }
   ],
   "source": [
    "# This code calculates the percentage of all flights that were delayed by AM West airlines. To do so, I added up all flights \n",
    "# done by AM West airlines (total_amwest_flights) and divided the total of delayed flights (amwest_total_flights_delayed) \n",
    "#by the total number of flights (total_amwest_flights) and multiplied the result by 100 to obtain the percentage. \n",
    "total_amwest_flights = df['AM_WEST_ON_Time'] + df['AM_WEST_Delayed']\n",
    "total_amwest_flights = total_amwest_flights.sum() \n",
    "percentage_of_flights_delayed_amwest = amwest_total_flights_delayed / total_amwest_flights * 100 \n",
    "percentage_of_flights_delayed_amwest.round()"
   ]
  },
  {
   "cell_type": "code",
   "execution_count": 65,
   "id": "5195b18e",
   "metadata": {},
   "outputs": [
    {
     "data": {
      "text/plain": [
       "0    11.0\n",
       "1     5.0\n",
       "2     9.0\n",
       "3    17.0\n",
       "4    14.0\n",
       "dtype: float64"
      ]
     },
     "execution_count": 65,
     "metadata": {},
     "output_type": "execute_result"
    }
   ],
   "source": [
    "# This code calculates the percentages of flights delayed but does it by city. For example, index 0 is dividing 62\n",
    "#(number of delayed flights in Los Angeles) by the total number of flights done to Los Angeles (559)\n",
    "total_alaska_flights = df['Alaska_ON_Time'] + df['Alaska_Delayed']\n",
    "percentage_bycity_delayed_alaska = df['Alaska_Delayed'] / total_alaska_flights * 100\n",
    "percentage_bycity_delayed_alaska.round()"
   ]
  },
  {
   "cell_type": "code",
   "execution_count": 66,
   "id": "b751e0a1",
   "metadata": {},
   "outputs": [
    {
     "data": {
      "text/plain": [
       "0    14.0\n",
       "1     8.0\n",
       "2    15.0\n",
       "3    29.0\n",
       "4    23.0\n",
       "dtype: float64"
      ]
     },
     "execution_count": 66,
     "metadata": {},
     "output_type": "execute_result"
    }
   ],
   "source": [
    "#This code calculates the percentage of flights delayed by city.\n",
    "total_amwest_flights = df['AM_WEST_ON_Time'] + df['AM_WEST_Delayed']\n",
    "percentage_bycity_delayed_amwest = df['AM_WEST_Delayed'] / total_amwest_flights * 100 \n",
    "percentage_bycity_delayed_amwest.round()"
   ]
  },
  {
   "cell_type": "code",
   "execution_count": 67,
   "id": "48181ce7",
   "metadata": {},
   "outputs": [
    {
     "data": {
      "text/plain": [
       "305"
      ]
     },
     "execution_count": 67,
     "metadata": {},
     "output_type": "execute_result"
    }
   ],
   "source": [
    "#This code gives the city with the most delayed flights for Alaska Airlines\n",
    "max_delay_alaska = df['Alaska_Delayed'].max() \n",
    "max_delay_alaska"
   ]
  },
  {
   "cell_type": "code",
   "execution_count": 57,
   "id": "e9e72a9f",
   "metadata": {},
   "outputs": [
    {
     "data": {
      "text/plain": [
       "61"
      ]
     },
     "execution_count": 57,
     "metadata": {},
     "output_type": "execute_result"
    }
   ],
   "source": [
    "#This code gives the city with the least delayed flights for AM West airlines\n",
    "minimum_delay_amwest = df['AM_WEST_Delayed'].min()\n",
    "minimum_delay_amwest"
   ]
  },
  {
   "cell_type": "code",
   "execution_count": null,
   "id": "fced5e80",
   "metadata": {},
   "outputs": [],
   "source": []
  }
 ],
 "metadata": {
  "kernelspec": {
   "display_name": "Python 3 (ipykernel)",
   "language": "python",
   "name": "python3"
  },
  "language_info": {
   "codemirror_mode": {
    "name": "ipython",
    "version": 3
   },
   "file_extension": ".py",
   "mimetype": "text/x-python",
   "name": "python",
   "nbconvert_exporter": "python",
   "pygments_lexer": "ipython3",
   "version": "3.9.13"
  }
 },
 "nbformat": 4,
 "nbformat_minor": 5
}
