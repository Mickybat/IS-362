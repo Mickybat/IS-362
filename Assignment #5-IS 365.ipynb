{
 "cells": [
  {
   "cell_type": "code",
   "execution_count": 13,
   "id": "7f2e3503",
   "metadata": {
    "scrolled": false
   },
   "outputs": [],
   "source": [
    "import pandas as pd\n",
    "\n",
    "df = pd.read_csv('C:/dataflights/flights/airports5.csv')"
   ]
  },
  {
   "cell_type": "markdown",
   "id": "987e7912",
   "metadata": {},
   "source": [
    "### Question number 1: \n",
    "- What is the northermost airport in the United States? \n",
    "  To answer this question, I first looked at a latitude and longitude map to better understand the data given. After seeing  \n",
    "  that the highest the latitude, the northern the place is, I decided to sort the data by latitude in descending order. After \n",
    "  doing so, I selected the first item of the list which is Wiley Post Will Rogers Mem. I verified that this was the northermost \n",
    "  airport given in the data set by comparing the first 5 airports with the highest latitude on google maps.\n"
   ]
  },
  {
   "cell_type": "code",
   "execution_count": 14,
   "id": "955caad3",
   "metadata": {},
   "outputs": [
    {
     "data": {
      "text/html": [
       "<div>\n",
       "<style scoped>\n",
       "    .dataframe tbody tr th:only-of-type {\n",
       "        vertical-align: middle;\n",
       "    }\n",
       "\n",
       "    .dataframe tbody tr th {\n",
       "        vertical-align: top;\n",
       "    }\n",
       "\n",
       "    .dataframe thead th {\n",
       "        text-align: right;\n",
       "    }\n",
       "</style>\n",
       "<table border=\"1\" class=\"dataframe\">\n",
       "  <thead>\n",
       "    <tr style=\"text-align: right;\">\n",
       "      <th></th>\n",
       "      <th>faa</th>\n",
       "      <th>name</th>\n",
       "      <th>lat</th>\n",
       "      <th>lon</th>\n",
       "      <th>alt</th>\n",
       "      <th>tz</th>\n",
       "      <th>dst</th>\n",
       "      <th>tzone</th>\n",
       "    </tr>\n",
       "  </thead>\n",
       "  <tbody>\n",
       "    <tr>\n",
       "      <th>230</th>\n",
       "      <td>BRW</td>\n",
       "      <td>Wiley Post Will Rogers Mem</td>\n",
       "      <td>71.285446</td>\n",
       "      <td>-156.766003</td>\n",
       "      <td>44</td>\n",
       "      <td>-9</td>\n",
       "      <td>A</td>\n",
       "      <td>America/Anchorage</td>\n",
       "    </tr>\n",
       "  </tbody>\n",
       "</table>\n",
       "</div>"
      ],
      "text/plain": [
       "     faa                        name        lat         lon  alt  tz dst  \\\n",
       "230  BRW  Wiley Post Will Rogers Mem  71.285446 -156.766003   44  -9   A   \n",
       "\n",
       "                 tzone  \n",
       "230  America/Anchorage  "
      ]
     },
     "execution_count": 14,
     "metadata": {},
     "output_type": "execute_result"
    }
   ],
   "source": [
    "sorted_list = df.sort_values(by=['lat'], ascending=[False]).dropna()\n",
    "northernmost = sorted_list[:1]\n",
    "northernmost"
   ]
  },
  {
   "cell_type": "markdown",
   "id": "ff02369d",
   "metadata": {},
   "source": [
    "### Question number 2 \n",
    "- To answer this question, I followed the same logic of question number 1. The easternmost airport would have the highest value   in the longitude column as positive values represent the eastern hemisphere. I sorted the data by longitude in descending \n",
    "  order. When I did so, I got some airports in Asia that have positive longitude numbers, so to filter them out of the data set \n",
    "  I created a calculation that selected the values that were less than 0 and applied to the list which gives me the highest \n",
    "  value in the longitude column. To verify my answer I used google maps to compare the locations of the five airports with the   highest longitude."
   ]
  },
  {
   "cell_type": "code",
   "execution_count": 15,
   "id": "a0224d07",
   "metadata": {},
   "outputs": [
    {
     "data": {
      "text/html": [
       "<div>\n",
       "<style scoped>\n",
       "    .dataframe tbody tr th:only-of-type {\n",
       "        vertical-align: middle;\n",
       "    }\n",
       "\n",
       "    .dataframe tbody tr th {\n",
       "        vertical-align: top;\n",
       "    }\n",
       "\n",
       "    .dataframe thead th {\n",
       "        text-align: right;\n",
       "    }\n",
       "</style>\n",
       "<table border=\"1\" class=\"dataframe\">\n",
       "  <thead>\n",
       "    <tr style=\"text-align: right;\">\n",
       "      <th></th>\n",
       "      <th>faa</th>\n",
       "      <th>name</th>\n",
       "      <th>lat</th>\n",
       "      <th>lon</th>\n",
       "      <th>alt</th>\n",
       "      <th>tz</th>\n",
       "      <th>dst</th>\n",
       "      <th>tzone</th>\n",
       "    </tr>\n",
       "  </thead>\n",
       "  <tbody>\n",
       "    <tr>\n",
       "      <th>444</th>\n",
       "      <td>EPM</td>\n",
       "      <td>Eastport Municipal Airport</td>\n",
       "      <td>44.910111</td>\n",
       "      <td>-67.012694</td>\n",
       "      <td>45</td>\n",
       "      <td>-5</td>\n",
       "      <td>A</td>\n",
       "      <td>America/New_York</td>\n",
       "    </tr>\n",
       "  </tbody>\n",
       "</table>\n",
       "</div>"
      ],
      "text/plain": [
       "     faa                        name        lat        lon  alt  tz dst  \\\n",
       "444  EPM  Eastport Municipal Airport  44.910111 -67.012694   45  -5   A   \n",
       "\n",
       "                tzone  \n",
       "444  America/New_York  "
      ]
     },
     "execution_count": 15,
     "metadata": {},
     "output_type": "execute_result"
    }
   ],
   "source": [
    "sorted_list = df.sort_values(by=['lon'], ascending=[False]).dropna() \n",
    "selection = sorted_list.lon < 0 \n",
    "easternmost = sorted_list[selection][:1] \n",
    "easternmost"
   ]
  },
  {
   "cell_type": "code",
   "execution_count": 16,
   "id": "a5942401",
   "metadata": {},
   "outputs": [],
   "source": [
    "import pandas as pd\n",
    "\n",
    "df = pd.read_csv('C:/dataflights/flights/weather2.csv')"
   ]
  },
  {
   "cell_type": "markdown",
   "id": "0184e45c",
   "metadata": {},
   "source": [
    "### Question number 3 \n",
    "  - For question number 3, I first needed to sort the data by month, day, year. To do so, I uploaded the the csv file into SQL     and created a SQL script to create a table that gave me the wind speed of all the NYC area airports on the february 12, \n",
    "    2013. \n",
    "    - I uploaded the new csv file with the sorted data into jupyter notebooks and organized the data by wind speed in \n",
    "      descending order. There was an outlier in the data, which showed a wind speed in the 1000s, so to eliminate the outlier, \n",
    "      I looked at the highest wind speed recorded which was during a tropical cyclone named Olivia in Australia and the wind  \n",
    "      speed was 253mph, so I decided to filter any rows that had a wind speed higher than 300. I also looked at the data  \n",
    "      manually and saw that most of the speeds were around the 20s, so I thought that 300 would be an appropiate measure."
   ]
  },
  {
   "cell_type": "code",
   "execution_count": 17,
   "id": "210ec3d2",
   "metadata": {},
   "outputs": [
    {
     "data": {
      "text/html": [
       "<div>\n",
       "<style scoped>\n",
       "    .dataframe tbody tr th:only-of-type {\n",
       "        vertical-align: middle;\n",
       "    }\n",
       "\n",
       "    .dataframe tbody tr th {\n",
       "        vertical-align: top;\n",
       "    }\n",
       "\n",
       "    .dataframe thead th {\n",
       "        text-align: right;\n",
       "    }\n",
       "</style>\n",
       "<table border=\"1\" class=\"dataframe\">\n",
       "  <thead>\n",
       "    <tr style=\"text-align: right;\">\n",
       "      <th></th>\n",
       "      <th>origin</th>\n",
       "      <th>year</th>\n",
       "      <th>month</th>\n",
       "      <th>day</th>\n",
       "      <th>hour</th>\n",
       "      <th>wind_speed</th>\n",
       "    </tr>\n",
       "  </thead>\n",
       "  <tbody>\n",
       "    <tr>\n",
       "      <th>47</th>\n",
       "      <td>LGA</td>\n",
       "      <td>2013</td>\n",
       "      <td>2</td>\n",
       "      <td>12</td>\n",
       "      <td>2</td>\n",
       "      <td>23.0156</td>\n",
       "    </tr>\n",
       "  </tbody>\n",
       "</table>\n",
       "</div>"
      ],
      "text/plain": [
       "   origin  year  month  day  hour  wind_speed\n",
       "47    LGA  2013      2   12     2     23.0156"
      ]
     },
     "execution_count": 17,
     "metadata": {},
     "output_type": "execute_result"
    }
   ],
   "source": [
    "sorted_list = df.sort_values(by=['wind_speed'], ascending=[False]).dropna()\n",
    "selection = sorted_list.wind_speed < 300  \n",
    "windiest = sorted_list[selection][:1]  \n",
    "windiest"
   ]
  },
  {
   "cell_type": "code",
   "execution_count": null,
   "id": "6050d085",
   "metadata": {},
   "outputs": [],
   "source": []
  },
  {
   "cell_type": "code",
   "execution_count": null,
   "id": "c4b26ec7",
   "metadata": {},
   "outputs": [],
   "source": []
  }
 ],
 "metadata": {
  "kernelspec": {
   "display_name": "Python 3 (ipykernel)",
   "language": "python",
   "name": "python3"
  },
  "language_info": {
   "codemirror_mode": {
    "name": "ipython",
    "version": 3
   },
   "file_extension": ".py",
   "mimetype": "text/x-python",
   "name": "python",
   "nbconvert_exporter": "python",
   "pygments_lexer": "ipython3",
   "version": "3.9.13"
  }
 },
 "nbformat": 4,
 "nbformat_minor": 5
}
