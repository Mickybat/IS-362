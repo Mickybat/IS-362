{
 "cells": [
  {
   "cell_type": "code",
   "execution_count": 231,
   "id": "17d2186d",
   "metadata": {},
   "outputs": [
    {
     "data": {
      "text/html": [
       "<div>\n",
       "<style scoped>\n",
       "    .dataframe tbody tr th:only-of-type {\n",
       "        vertical-align: middle;\n",
       "    }\n",
       "\n",
       "    .dataframe tbody tr th {\n",
       "        vertical-align: top;\n",
       "    }\n",
       "\n",
       "    .dataframe thead th {\n",
       "        text-align: right;\n",
       "    }\n",
       "</style>\n",
       "<table border=\"1\" class=\"dataframe\">\n",
       "  <thead>\n",
       "    <tr style=\"text-align: right;\">\n",
       "      <th></th>\n",
       "      <th>friend</th>\n",
       "      <th>Saint_Omer</th>\n",
       "      <th>Hit_the_road</th>\n",
       "      <th>Benediction</th>\n",
       "      <th>Empire_of_light</th>\n",
       "      <th>tar</th>\n",
       "    </tr>\n",
       "  </thead>\n",
       "  <tbody>\n",
       "    <tr>\n",
       "      <th>0</th>\n",
       "      <td>Melissa</td>\n",
       "      <td>4.0</td>\n",
       "      <td>NaN</td>\n",
       "      <td>3.0</td>\n",
       "      <td>NaN</td>\n",
       "      <td>4.0</td>\n",
       "    </tr>\n",
       "    <tr>\n",
       "      <th>1</th>\n",
       "      <td>Mark</td>\n",
       "      <td>NaN</td>\n",
       "      <td>5.0</td>\n",
       "      <td>3.0</td>\n",
       "      <td>3.0</td>\n",
       "      <td>5.0</td>\n",
       "    </tr>\n",
       "    <tr>\n",
       "      <th>2</th>\n",
       "      <td>Julio</td>\n",
       "      <td>5.0</td>\n",
       "      <td>NaN</td>\n",
       "      <td>NaN</td>\n",
       "      <td>3.0</td>\n",
       "      <td>3.0</td>\n",
       "    </tr>\n",
       "    <tr>\n",
       "      <th>3</th>\n",
       "      <td>Mary</td>\n",
       "      <td>2.0</td>\n",
       "      <td>5.0</td>\n",
       "      <td>4.0</td>\n",
       "      <td>4.0</td>\n",
       "      <td>5.0</td>\n",
       "    </tr>\n",
       "    <tr>\n",
       "      <th>4</th>\n",
       "      <td>Helen</td>\n",
       "      <td>NaN</td>\n",
       "      <td>4.0</td>\n",
       "      <td>2.0</td>\n",
       "      <td>5.0</td>\n",
       "      <td>5.0</td>\n",
       "    </tr>\n",
       "    <tr>\n",
       "      <th>5</th>\n",
       "      <td>John</td>\n",
       "      <td>NaN</td>\n",
       "      <td>5.0</td>\n",
       "      <td>NaN</td>\n",
       "      <td>5.0</td>\n",
       "      <td>NaN</td>\n",
       "    </tr>\n",
       "  </tbody>\n",
       "</table>\n",
       "</div>"
      ],
      "text/plain": [
       "    friend  Saint_Omer  Hit_the_road  Benediction  Empire_of_light  tar\n",
       "0  Melissa         4.0           NaN          3.0              NaN  4.0\n",
       "1     Mark         NaN           5.0          3.0              3.0  5.0\n",
       "2    Julio         5.0           NaN          NaN              3.0  3.0\n",
       "3     Mary         2.0           5.0          4.0              4.0  5.0\n",
       "4    Helen         NaN           4.0          2.0              5.0  5.0\n",
       "5     John         NaN           5.0          NaN              5.0  NaN"
      ]
     },
     "execution_count": 231,
     "metadata": {},
     "output_type": "execute_result"
    }
   ],
   "source": [
    "import pandas as pd\n",
    "import numpy as np\n",
    "import matplotlib.pyplot as plt\n",
    "df = pd.read_csv('C:/dataflights/flights/movie_review.csv')\n",
    "df"
   ]
  },
  {
   "cell_type": "code",
   "execution_count": 232,
   "id": "c7f17d1e",
   "metadata": {},
   "outputs": [
    {
     "data": {
      "text/plain": [
       "Saint_Omer         3.666667\n",
       "Hit_the_road       4.750000\n",
       "Benediction        3.000000\n",
       "Empire_of_light    4.000000\n",
       "tar                4.400000\n",
       "dtype: float64"
      ]
     },
     "execution_count": 232,
     "metadata": {},
     "output_type": "execute_result"
    }
   ],
   "source": [
    "df = df.set_index('friend') \n",
    "movie_avg = df.mean(axis = 0) \n",
    "movie_avg"
   ]
  },
  {
   "cell_type": "code",
   "execution_count": 233,
   "id": "1aabd457",
   "metadata": {},
   "outputs": [
    {
     "data": {
      "text/plain": [
       "friend\n",
       "Melissa    3.666667\n",
       "Mark       4.000000\n",
       "Julio      3.666667\n",
       "Mary       4.000000\n",
       "Helen      4.000000\n",
       "John       5.000000\n",
       "dtype: float64"
      ]
     },
     "execution_count": 233,
     "metadata": {},
     "output_type": "execute_result"
    }
   ],
   "source": [
    "friends_avg = df.mean(axis=1) \n",
    "friends_avg"
   ]
  },
  {
   "cell_type": "code",
   "execution_count": 234,
   "id": "6d6daad4",
   "metadata": {},
   "outputs": [
    {
     "name": "stdout",
     "output_type": "stream",
     "text": [
      "         Saint_Omer  Hit_the_road  Benediction  Empire_of_light  tar\n",
      "friend                                                              \n",
      "Melissa    0.666667           NaN          0.5              NaN  0.5\n",
      "Mark            NaN           1.0          0.5              0.0  1.0\n",
      "Julio      1.000000           NaN          NaN              0.0  0.0\n",
      "Mary       0.000000           1.0          1.0              0.5  1.0\n",
      "Helen           NaN           0.0          0.0              1.0  1.0\n",
      "John            NaN           1.0          NaN              1.0  NaN\n"
     ]
    }
   ],
   "source": [
    "normalization = df.copy()\n",
    "  \n",
    "for column in normalization.columns:\n",
    "    normalization[column] = (normalization[column] - normalization[column].min()) / (normalization[column].max() - normalization[column].min())    \n",
    "  \n",
    "print(normalization)"
   ]
  },
  {
   "cell_type": "code",
   "execution_count": 235,
   "id": "11aea77a",
   "metadata": {},
   "outputs": [
    {
     "data": {
      "text/plain": [
       "Saint_Omer         0.555556\n",
       "Hit_the_road       0.750000\n",
       "Benediction        0.500000\n",
       "Empire_of_light    0.500000\n",
       "tar                0.700000\n",
       "dtype: float64"
      ]
     },
     "execution_count": 235,
     "metadata": {},
     "output_type": "execute_result"
    }
   ],
   "source": [
    "normalized_movie_avg = normalization.mean() \n",
    "normalized_movie_avg"
   ]
  },
  {
   "cell_type": "code",
   "execution_count": 236,
   "id": "3d713406",
   "metadata": {},
   "outputs": [
    {
     "data": {
      "text/plain": [
       "friend\n",
       "Melissa    0.555556\n",
       "Mark       0.625000\n",
       "Julio      0.333333\n",
       "Mary       0.700000\n",
       "Helen      0.500000\n",
       "John       1.000000\n",
       "dtype: float64"
      ]
     },
     "execution_count": 236,
     "metadata": {},
     "output_type": "execute_result"
    }
   ],
   "source": [
    "normalized_friend_avg = normalization.mean(axis=1) \n",
    "normalized_friend_avg"
   ]
  },
  {
   "cell_type": "code",
   "execution_count": 237,
   "id": "9129373b",
   "metadata": {},
   "outputs": [
    {
     "data": {
      "text/plain": [
       "<AxesSubplot:xlabel='friend'>"
      ]
     },
     "execution_count": 237,
     "metadata": {},
     "output_type": "execute_result"
    },
    {
     "data": {
      "image/png": "[encoded data removed]",
      "text/plain": [
       "<Figure size 640x480 with 1 Axes>"
      ]
     },
     "metadata": {},
     "output_type": "display_data"
    }
   ],
   "source": [
    "normalization.plot(kind = 'bar')"
   ]
  },
  {
   "cell_type": "markdown",
   "id": "65b59a45",
   "metadata": {},
   "source": [
    "##### Explain what might be the advantages and disadvantages of using normalized ratings instead of actual ratings \n",
    "- An advantage of normalizing the ratings is that normalization allows the values to be more readily compared. This is useful when building machine learning models as it ensures that the distribution of a column's values do not get over or under represented in the models. \n",
    "- A disadvantage is that if there are any outliers in the dataframe, normalizing the data will scale the \"normal\" data to very small intervals."
   ]
  },
  {
   "cell_type": "code",
   "execution_count": 238,
   "id": "0cb45901",
   "metadata": {},
   "outputs": [
    {
     "name": "stdout",
     "output_type": "stream",
     "text": [
      "         Saint_Omer  Hit_the_road  Benediction  Empire_of_light       tar\n",
      "friend                                                                   \n",
      "Melissa    0.218218           NaN     0.000000              NaN -0.447214\n",
      "Mark            NaN           0.5     0.000000             -1.0  0.670820\n",
      "Julio      0.872872           NaN          NaN             -1.0 -1.565248\n",
      "Mary      -1.091089           0.5     1.224745              0.0  0.670820\n",
      "Helen           NaN          -1.5    -1.224745              1.0  0.670820\n",
      "John            NaN           0.5          NaN              1.0       NaN\n"
     ]
    }
   ],
   "source": [
    "standardization = df.copy()\n",
    "  \n",
    "for column in standardization.columns:\n",
    "    standardization[column] =( standardization[column] - standardization[column].mean() ) / standardization[column].std()\n",
    "  \n",
    "print(standardization)"
   ]
  },
  {
   "cell_type": "code",
   "execution_count": 239,
   "id": "ca9dec2d",
   "metadata": {},
   "outputs": [
    {
     "data": {
      "text/plain": [
       "Saint_Omer         1.480297e-16\n",
       "Hit_the_road       0.000000e+00\n",
       "Benediction        0.000000e+00\n",
       "Empire_of_light    0.000000e+00\n",
       "tar               -4.440892e-16\n",
       "dtype: float64"
      ]
     },
     "execution_count": 239,
     "metadata": {},
     "output_type": "execute_result"
    }
   ],
   "source": [
    "standardization_movie_avg = standardization.mean() \n",
    "standardization_movie_avg"
   ]
  },
  {
   "cell_type": "code",
   "execution_count": 240,
   "id": "5c633cb2",
   "metadata": {},
   "outputs": [
    {
     "data": {
      "text/plain": [
       "friend\n",
       "Melissa   -0.076332\n",
       "Mark       0.042705\n",
       "Julio     -0.564125\n",
       "Mary       0.260895\n",
       "Helen     -0.263481\n",
       "John       0.750000\n",
       "dtype: float64"
      ]
     },
     "execution_count": 240,
     "metadata": {},
     "output_type": "execute_result"
    }
   ],
   "source": [
    "standardization_friend_avg = standardization.mean(axis=1) \n",
    "standardization_friend_avg"
   ]
  },
  {
   "cell_type": "code",
   "execution_count": 241,
   "id": "3cd1f9a2",
   "metadata": {},
   "outputs": [
    {
     "data": {
      "text/plain": [
       "<AxesSubplot:xlabel='friend'>"
      ]
     },
     "execution_count": 241,
     "metadata": {},
     "output_type": "execute_result"
    },
    {
     "data": {
      "image/png": "[encoded data removed]",
      "text/plain": [
       "<Figure size 640x480 with 1 Axes>"
      ]
     },
     "metadata": {},
     "output_type": "display_data"
    }
   ],
   "source": [
    "standardization.plot(kind = 'bar')"
   ]
  },
  {
   "cell_type": "code",
   "execution_count": null,
   "id": "4a684d63",
   "metadata": {},
   "outputs": [],
   "source": []
  }
 ],
 "metadata": {
  "kernelspec": {
   "display_name": "Python 3 (ipykernel)",
   "language": "python",
   "name": "python3"
  },
  "language_info": {
   "codemirror_mode": {
    "name": "ipython",
    "version": 3
   },
   "file_extension": ".py",
   "mimetype": "text/x-python",
   "name": "python",
   "nbconvert_exporter": "python",
   "pygments_lexer": "ipython3",
   "version": "3.9.13"
  }
 },
 "nbformat": 4,
 "nbformat_minor": 5
}
