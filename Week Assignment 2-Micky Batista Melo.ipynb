{
 "cells": [
  {
   "cell_type": "code",
   "execution_count": 19,
   "id": "cb313ca8",
   "metadata": {},
   "outputs": [
    {
     "data": {
      "text/plain": [
       "[('flour', 'dolls'),\n",
       " ('sugar', 'cookies'),\n",
       " ('diapers', 'jam'),\n",
       " ('bread', 'flowers')]"
      ]
     },
     "execution_count": 19,
     "metadata": {},
     "output_type": "execute_result"
    }
   ],
   "source": [
    "list_from_wife = ['flour', 'sugar', 'diapers', 'bread'] \n",
    "list_from_daughter = ['dolls', 'cookies', 'jam', 'flowers'] \n",
    "whole_list = zip(list_from_wife, list_from_daughter) \n",
    "list(whole_list)"
   ]
  },
  {
   "cell_type": "code",
   "execution_count": 20,
   "id": "d55e7ab8",
   "metadata": {},
   "outputs": [
    {
     "data": {
      "text/plain": [
       "('dolls', 'cookies', 'jam', 'flour')"
      ]
     },
     "execution_count": 20,
     "metadata": {},
     "output_type": "execute_result"
    }
   ],
   "source": [
    "whole_list = [('flour', 'dolls'), ('sugar', 'cookies'), ('diapers', 'jam'), ('bread', 'flour')] \n",
    "list_from_wife, list_from_daughter = zip(*whole_list) \n",
    "list_from_daughter"
   ]
  },
  {
   "cell_type": "markdown",
   "id": "20440a2d",
   "metadata": {},
   "source": [
    "# Documentation in Markdown (Markup Language) \n",
    "1. I decided to do the assignment using the zip() function \n",
    "2. For the first example, I used the zip function to zip two lists together. I first created the list, then created a variable \n",
    "   called whole_list where I zip both list. \n",
    "3. For the second example, I used the zip function to \"unzip\" a list. I decided to unzip the list into two list called \n",
    "   list_from_wife and list_from_daughter that reflected the two lists made in the first example."
   ]
  },
  {
   "cell_type": "code",
   "execution_count": null,
   "id": "6ee5318a",
   "metadata": {},
   "outputs": [],
   "source": []
  },
  {
   "cell_type": "code",
   "execution_count": null,
   "id": "6986558f",
   "metadata": {},
   "outputs": [],
   "source": []
  }
 ],
 "metadata": {
  "kernelspec": {
   "display_name": "Python 3 (ipykernel)",
   "language": "python",
   "name": "python3"
  },
  "language_info": {
   "codemirror_mode": {
    "name": "ipython",
    "version": 3
   },
   "file_extension": ".py",
   "mimetype": "text/x-python",
   "name": "python",
   "nbconvert_exporter": "python",
   "pygments_lexer": "ipython3",
   "version": "3.9.13"
  }
 },
 "nbformat": 4,
 "nbformat_minor": 5
}
