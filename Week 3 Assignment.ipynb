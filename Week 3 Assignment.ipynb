{
 "cells": [
  {
   "cell_type": "code",
   "execution_count": 2,
   "id": "22e35a9a",
   "metadata": {},
   "outputs": [
    {
     "data": {
      "text/plain": [
       "day1      90\n",
       "day2     110\n",
       "day3     105\n",
       "day4     120\n",
       "day5     100\n",
       "day6      80\n",
       "day7     111\n",
       "day8     115\n",
       "day9      97\n",
       "day10    105\n",
       "day11    110\n",
       "day12    100\n",
       "day13     95\n",
       "day14    107\n",
       "dtype: int64"
      ]
     },
     "execution_count": 2,
     "metadata": {},
     "output_type": "execute_result"
    }
   ],
   "source": [
    "import numpy as np\n",
    "import pandas as pd \n",
    "odometer = pd.Series([90, 200, 305, 425, 525, 605, 716, 831, 928, 1033, 1143, 1243, 1338, 1445], index=['day1','day2','day3',\n",
    "'day4','day5','day6', 'day7', 'day8', 'day9', 'day10', 'day11', 'day12', 'day13', 'day14']) \n",
    "operation = pd.Series([0, 90, 200, 305, 425, 525, 605, 716, 831, 928, 1033, 1143, 1243, 1338], index=['day1','day2','day3',\n",
    "'day4','day5','day6', 'day7', 'day8', 'day9', 'day10', 'day11', 'day12', 'day13', 'day14'])\n",
    "odometer - operation\n"
   ]
  },
  {
   "cell_type": "code",
   "execution_count": null,
   "id": "147401e1",
   "metadata": {},
   "outputs": [],
   "source": []
  },
  {
   "cell_type": "code",
   "execution_count": null,
   "id": "db5f8b3c",
   "metadata": {},
   "outputs": [],
   "source": []
  }
 ],
 "metadata": {
  "kernelspec": {
   "display_name": "Python 3 (ipykernel)",
   "language": "python",
   "name": "python3"
  },
  "language_info": {
   "codemirror_mode": {
    "name": "ipython",
    "version": 3
   },
   "file_extension": ".py",
   "mimetype": "text/x-python",
   "name": "python",
   "nbconvert_exporter": "python",
   "pygments_lexer": "ipython3",
   "version": "3.9.13"
  }
 },
 "nbformat": 4,
 "nbformat_minor": 5
}
