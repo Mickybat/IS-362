{
 "cells": [
  {
   "cell_type": "code",
   "execution_count": 9,
   "id": "d2119ff4",
   "metadata": {
    "scrolled": true
   },
   "outputs": [
    {
     "data": {
      "text/html": [
       "<div>\n",
       "<style scoped>\n",
       "    .dataframe tbody tr th:only-of-type {\n",
       "        vertical-align: middle;\n",
       "    }\n",
       "\n",
       "    .dataframe tbody tr th {\n",
       "        vertical-align: top;\n",
       "    }\n",
       "\n",
       "    .dataframe thead th {\n",
       "        text-align: right;\n",
       "    }\n",
       "</style>\n",
       "<table border=\"1\" class=\"dataframe\">\n",
       "  <thead>\n",
       "    <tr style=\"text-align: right;\">\n",
       "      <th></th>\n",
       "      <th>country</th>\n",
       "      <th>year_2000</th>\n",
       "      <th>year_2010</th>\n",
       "      <th>year_2020</th>\n",
       "    </tr>\n",
       "  </thead>\n",
       "  <tbody>\n",
       "    <tr>\n",
       "      <th>0</th>\n",
       "      <td>united states</td>\n",
       "      <td>282,000,000</td>\n",
       "      <td>309,300,000</td>\n",
       "      <td>329,500,000</td>\n",
       "    </tr>\n",
       "    <tr>\n",
       "      <th>1</th>\n",
       "      <td>china</td>\n",
       "      <td>1,263,000,000</td>\n",
       "      <td>1,338,000,000</td>\n",
       "      <td>1,411,000,000</td>\n",
       "    </tr>\n",
       "    <tr>\n",
       "      <th>2</th>\n",
       "      <td>russia</td>\n",
       "      <td>146,600,000</td>\n",
       "      <td>142,800,000</td>\n",
       "      <td>144,100,000</td>\n",
       "    </tr>\n",
       "    <tr>\n",
       "      <th>3</th>\n",
       "      <td>india</td>\n",
       "      <td>1,060,000,000</td>\n",
       "      <td>1,241,000,000</td>\n",
       "      <td>1,329,000,000</td>\n",
       "    </tr>\n",
       "  </tbody>\n",
       "</table>\n",
       "</div>"
      ],
      "text/plain": [
       "         country      year_2000      year_2010      year_2020\n",
       "0  united states    282,000,000    309,300,000    329,500,000\n",
       "1          china  1,263,000,000  1,338,000,000  1,411,000,000\n",
       "2         russia    146,600,000    142,800,000    144,100,000\n",
       "3          india  1,060,000,000  1,241,000,000  1,329,000,000"
      ]
     },
     "execution_count": 9,
     "metadata": {},
     "output_type": "execute_result"
    }
   ],
   "source": [
    "import pandas as pd\n",
    "\n",
    "df = pd.read_csv('C:/dataflights/untidy/untidy_population_count.csv')\n",
    "df"
   ]
  },
  {
   "cell_type": "markdown",
   "id": "1fe96589",
   "metadata": {},
   "source": [
    "### Reshaping the data \n",
    "-The data provided had observations as columns. To fix this problem, I used the melt() method to reshape the data into long format. I used the country column as an identifier and year and population as measurable values. I also changed the names of the values year_2000, year_2010, year_2020 to 2000, 2010, 2020 to make the table look cleaner."
   ]
  },
  {
   "cell_type": "code",
   "execution_count": 10,
   "id": "27878b83",
   "metadata": {},
   "outputs": [
    {
     "data": {
      "text/html": [
       "<div>\n",
       "<style scoped>\n",
       "    .dataframe tbody tr th:only-of-type {\n",
       "        vertical-align: middle;\n",
       "    }\n",
       "\n",
       "    .dataframe tbody tr th {\n",
       "        vertical-align: top;\n",
       "    }\n",
       "\n",
       "    .dataframe thead th {\n",
       "        text-align: right;\n",
       "    }\n",
       "</style>\n",
       "<table border=\"1\" class=\"dataframe\">\n",
       "  <thead>\n",
       "    <tr style=\"text-align: right;\">\n",
       "      <th></th>\n",
       "      <th>country</th>\n",
       "      <th>year</th>\n",
       "      <th>population</th>\n",
       "    </tr>\n",
       "  </thead>\n",
       "  <tbody>\n",
       "    <tr>\n",
       "      <th>0</th>\n",
       "      <td>united states</td>\n",
       "      <td>2000</td>\n",
       "      <td>282,000,000</td>\n",
       "    </tr>\n",
       "    <tr>\n",
       "      <th>1</th>\n",
       "      <td>china</td>\n",
       "      <td>2000</td>\n",
       "      <td>1,263,000,000</td>\n",
       "    </tr>\n",
       "    <tr>\n",
       "      <th>2</th>\n",
       "      <td>russia</td>\n",
       "      <td>2000</td>\n",
       "      <td>146,600,000</td>\n",
       "    </tr>\n",
       "    <tr>\n",
       "      <th>3</th>\n",
       "      <td>india</td>\n",
       "      <td>2000</td>\n",
       "      <td>1,060,000,000</td>\n",
       "    </tr>\n",
       "    <tr>\n",
       "      <th>4</th>\n",
       "      <td>united states</td>\n",
       "      <td>2010</td>\n",
       "      <td>309,300,000</td>\n",
       "    </tr>\n",
       "    <tr>\n",
       "      <th>5</th>\n",
       "      <td>china</td>\n",
       "      <td>2010</td>\n",
       "      <td>1,338,000,000</td>\n",
       "    </tr>\n",
       "    <tr>\n",
       "      <th>6</th>\n",
       "      <td>russia</td>\n",
       "      <td>2010</td>\n",
       "      <td>142,800,000</td>\n",
       "    </tr>\n",
       "    <tr>\n",
       "      <th>7</th>\n",
       "      <td>india</td>\n",
       "      <td>2010</td>\n",
       "      <td>1,241,000,000</td>\n",
       "    </tr>\n",
       "    <tr>\n",
       "      <th>8</th>\n",
       "      <td>united states</td>\n",
       "      <td>2020</td>\n",
       "      <td>329,500,000</td>\n",
       "    </tr>\n",
       "    <tr>\n",
       "      <th>9</th>\n",
       "      <td>china</td>\n",
       "      <td>2020</td>\n",
       "      <td>1,411,000,000</td>\n",
       "    </tr>\n",
       "    <tr>\n",
       "      <th>10</th>\n",
       "      <td>russia</td>\n",
       "      <td>2020</td>\n",
       "      <td>144,100,000</td>\n",
       "    </tr>\n",
       "    <tr>\n",
       "      <th>11</th>\n",
       "      <td>india</td>\n",
       "      <td>2020</td>\n",
       "      <td>1,329,000,000</td>\n",
       "    </tr>\n",
       "  </tbody>\n",
       "</table>\n",
       "</div>"
      ],
      "text/plain": [
       "          country  year     population\n",
       "0   united states  2000    282,000,000\n",
       "1           china  2000  1,263,000,000\n",
       "2          russia  2000    146,600,000\n",
       "3           india  2000  1,060,000,000\n",
       "4   united states  2010    309,300,000\n",
       "5           china  2010  1,338,000,000\n",
       "6          russia  2010    142,800,000\n",
       "7           india  2010  1,241,000,000\n",
       "8   united states  2020    329,500,000\n",
       "9           china  2020  1,411,000,000\n",
       "10         russia  2020    144,100,000\n",
       "11          india  2020  1,329,000,000"
      ]
     },
     "execution_count": 10,
     "metadata": {},
     "output_type": "execute_result"
    }
   ],
   "source": [
    "tidy_df = df.melt(id_vars=['country'], \n",
    "       var_name='year', \n",
    "       value_name='population') \n",
    "tidy_df['year'] = tidy_df['year'].replace(['year_2000', 'year_2010', 'year_2020'], ['2000', '2010', '2020']) \n",
    "tidy_df"
   ]
  },
  {
   "cell_type": "markdown",
   "id": "1863dbcd",
   "metadata": {},
   "source": [
    "### Calculations \n",
    "This first calculation is getting the percentage change in population of the United States from the year 2000 to the year 2010."
   ]
  },
  {
   "cell_type": "code",
   "execution_count": 11,
   "id": "e150af63",
   "metadata": {},
   "outputs": [
    {
     "data": {
      "text/plain": [
       "9.68"
      ]
     },
     "execution_count": 11,
     "metadata": {},
     "output_type": "execute_result"
    }
   ],
   "source": [
    "tidy_df['population'] = tidy_df['population'].str.replace(',', '').astype(int)  \n",
    "us_total = tidy_df['population'].loc[tidy_df.index[4]] - tidy_df['population'].loc[tidy_df.index[0]]  \n",
    "us_change = us_total / tidy_df['population'].loc[tidy_df.index[0]] * 100\n",
    "us_change.round(2)"
   ]
  },
  {
   "cell_type": "markdown",
   "id": "8c56cc35",
   "metadata": {},
   "source": [
    "### Calculations\n",
    "-This calculation is getting the percentage change in population of Russia from the year 2000 to the year 2020"
   ]
  },
  {
   "cell_type": "code",
   "execution_count": 12,
   "id": "b2b2ca40",
   "metadata": {},
   "outputs": [
    {
     "data": {
      "text/plain": [
       "-1.71"
      ]
     },
     "execution_count": 12,
     "metadata": {},
     "output_type": "execute_result"
    }
   ],
   "source": [
    "russia_total = tidy_df['population'].loc[tidy_df.index[10]] - tidy_df['population'].loc[tidy_df.index[2]] \n",
    "russia_change = russia_total / tidy_df['population'].loc[tidy_df.index[2]] * 100 \n",
    "russia_change.round(2)"
   ]
  },
  {
   "cell_type": "code",
   "execution_count": null,
   "id": "28113917",
   "metadata": {},
   "outputs": [],
   "source": []
  }
 ],
 "metadata": {
  "kernelspec": {
   "display_name": "Python 3 (ipykernel)",
   "language": "python",
   "name": "python3"
  },
  "language_info": {
   "codemirror_mode": {
    "name": "ipython",
    "version": 3
   },
   "file_extension": ".py",
   "mimetype": "text/x-python",
   "name": "python",
   "nbconvert_exporter": "python",
   "pygments_lexer": "ipython3",
   "version": "3.9.13"
  }
 },
 "nbformat": 4,
 "nbformat_minor": 5
}
