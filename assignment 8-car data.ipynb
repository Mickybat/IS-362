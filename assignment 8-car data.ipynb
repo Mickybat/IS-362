{
 "cells": [
  {
   "cell_type": "code",
   "execution_count": 248,
   "id": "178082d7",
   "metadata": {},
   "outputs": [
    {
     "data": {
      "text/html": [
       "<div>\n",
       "<style scoped>\n",
       "    .dataframe tbody tr th:only-of-type {\n",
       "        vertical-align: middle;\n",
       "    }\n",
       "\n",
       "    .dataframe tbody tr th {\n",
       "        vertical-align: top;\n",
       "    }\n",
       "\n",
       "    .dataframe thead th {\n",
       "        text-align: right;\n",
       "    }\n",
       "</style>\n",
       "<table border=\"1\" class=\"dataframe\">\n",
       "  <thead>\n",
       "    <tr style=\"text-align: right;\">\n",
       "      <th></th>\n",
       "      <th>18.0   8   307.0      130.0      3504.      12.0   70  1\\t\"chevrolet chevelle malibu\"</th>\n",
       "    </tr>\n",
       "  </thead>\n",
       "  <tbody>\n",
       "    <tr>\n",
       "      <th>0</th>\n",
       "      <td>15.0   8   350.0      165.0      3693.      11...</td>\n",
       "    </tr>\n",
       "    <tr>\n",
       "      <th>1</th>\n",
       "      <td>18.0   8   318.0      150.0      3436.      11...</td>\n",
       "    </tr>\n",
       "    <tr>\n",
       "      <th>2</th>\n",
       "      <td>16.0   8   304.0      150.0      3433.      12...</td>\n",
       "    </tr>\n",
       "    <tr>\n",
       "      <th>3</th>\n",
       "      <td>17.0   8   302.0      140.0      3449.      10...</td>\n",
       "    </tr>\n",
       "    <tr>\n",
       "      <th>4</th>\n",
       "      <td>15.0   8   429.0      198.0      4341.      10...</td>\n",
       "    </tr>\n",
       "  </tbody>\n",
       "</table>\n",
       "</div>"
      ],
      "text/plain": [
       "  18.0   8   307.0      130.0      3504.      12.0   70  1\\t\"chevrolet chevelle malibu\"\n",
       "0  15.0   8   350.0      165.0      3693.      11...                                   \n",
       "1  18.0   8   318.0      150.0      3436.      11...                                   \n",
       "2  16.0   8   304.0      150.0      3433.      12...                                   \n",
       "3  17.0   8   302.0      140.0      3449.      10...                                   \n",
       "4  15.0   8   429.0      198.0      4341.      10...                                   "
      ]
     },
     "execution_count": 248,
     "metadata": {},
     "output_type": "execute_result"
    }
   ],
   "source": [
    "import numpy as np\n",
    "import pandas as pd\n",
    "import seaborn as sns\n",
    "from matplotlib import pyplot as plt\n",
    "%matplotlib inline  \n",
    "df = pd.read_csv('C:/dataflights/untidy/auto-mpg.data') \n",
    "df.head()"
   ]
  },
  {
   "cell_type": "markdown",
   "id": "f5cdbf99",
   "metadata": {},
   "source": [
    "### Naming the dataframe columns according to the attributes provided in auto-mpg.names"
   ]
  },
  {
   "cell_type": "code",
   "execution_count": 249,
   "id": "c51e43b0",
   "metadata": {},
   "outputs": [],
   "source": [
    "column_name = ['MPG','Cylinders','Displacement','Horsepower','Weight','Acceleration','Model Year','Origin','Car Name']"
   ]
  },
  {
   "cell_type": "markdown",
   "id": "3055ec53",
   "metadata": {},
   "source": [
    "### Cleaning the data \n",
    "-Used delim_whitespace to specify that whitespace will be used as a separator"
   ]
  },
  {
   "cell_type": "code",
   "execution_count": 250,
   "id": "36248107",
   "metadata": {},
   "outputs": [
    {
     "data": {
      "text/html": [
       "<div>\n",
       "<style scoped>\n",
       "    .dataframe tbody tr th:only-of-type {\n",
       "        vertical-align: middle;\n",
       "    }\n",
       "\n",
       "    .dataframe tbody tr th {\n",
       "        vertical-align: top;\n",
       "    }\n",
       "\n",
       "    .dataframe thead th {\n",
       "        text-align: right;\n",
       "    }\n",
       "</style>\n",
       "<table border=\"1\" class=\"dataframe\">\n",
       "  <thead>\n",
       "    <tr style=\"text-align: right;\">\n",
       "      <th></th>\n",
       "      <th>MPG</th>\n",
       "      <th>Cylinders</th>\n",
       "      <th>Displacement</th>\n",
       "      <th>Horsepower</th>\n",
       "      <th>Weight</th>\n",
       "      <th>Acceleration</th>\n",
       "      <th>Model Year</th>\n",
       "      <th>Origin</th>\n",
       "      <th>Car Name</th>\n",
       "    </tr>\n",
       "  </thead>\n",
       "  <tbody>\n",
       "    <tr>\n",
       "      <th>0</th>\n",
       "      <td>18.0</td>\n",
       "      <td>8</td>\n",
       "      <td>307.0</td>\n",
       "      <td>130.0</td>\n",
       "      <td>3504.0</td>\n",
       "      <td>12.0</td>\n",
       "      <td>70</td>\n",
       "      <td>1</td>\n",
       "      <td>chevrolet chevelle malibu</td>\n",
       "    </tr>\n",
       "    <tr>\n",
       "      <th>1</th>\n",
       "      <td>15.0</td>\n",
       "      <td>8</td>\n",
       "      <td>350.0</td>\n",
       "      <td>165.0</td>\n",
       "      <td>3693.0</td>\n",
       "      <td>11.5</td>\n",
       "      <td>70</td>\n",
       "      <td>1</td>\n",
       "      <td>buick skylark 320</td>\n",
       "    </tr>\n",
       "    <tr>\n",
       "      <th>2</th>\n",
       "      <td>18.0</td>\n",
       "      <td>8</td>\n",
       "      <td>318.0</td>\n",
       "      <td>150.0</td>\n",
       "      <td>3436.0</td>\n",
       "      <td>11.0</td>\n",
       "      <td>70</td>\n",
       "      <td>1</td>\n",
       "      <td>plymouth satellite</td>\n",
       "    </tr>\n",
       "    <tr>\n",
       "      <th>3</th>\n",
       "      <td>16.0</td>\n",
       "      <td>8</td>\n",
       "      <td>304.0</td>\n",
       "      <td>150.0</td>\n",
       "      <td>3433.0</td>\n",
       "      <td>12.0</td>\n",
       "      <td>70</td>\n",
       "      <td>1</td>\n",
       "      <td>amc rebel sst</td>\n",
       "    </tr>\n",
       "    <tr>\n",
       "      <th>4</th>\n",
       "      <td>17.0</td>\n",
       "      <td>8</td>\n",
       "      <td>302.0</td>\n",
       "      <td>140.0</td>\n",
       "      <td>3449.0</td>\n",
       "      <td>10.5</td>\n",
       "      <td>70</td>\n",
       "      <td>1</td>\n",
       "      <td>ford torino</td>\n",
       "    </tr>\n",
       "  </tbody>\n",
       "</table>\n",
       "</div>"
      ],
      "text/plain": [
       "    MPG  Cylinders  Displacement Horsepower  Weight  Acceleration  Model Year  \\\n",
       "0  18.0          8         307.0      130.0  3504.0          12.0          70   \n",
       "1  15.0          8         350.0      165.0  3693.0          11.5          70   \n",
       "2  18.0          8         318.0      150.0  3436.0          11.0          70   \n",
       "3  16.0          8         304.0      150.0  3433.0          12.0          70   \n",
       "4  17.0          8         302.0      140.0  3449.0          10.5          70   \n",
       "\n",
       "   Origin                   Car Name  \n",
       "0       1  chevrolet chevelle malibu  \n",
       "1       1          buick skylark 320  \n",
       "2       1         plymouth satellite  \n",
       "3       1              amc rebel sst  \n",
       "4       1                ford torino  "
      ]
     },
     "execution_count": 250,
     "metadata": {},
     "output_type": "execute_result"
    }
   ],
   "source": [
    "car_list = pd.read_csv('C:/dataflights/untidy/auto-mpg.data', names = column_name ) \n",
    "car_list = pd.read_csv('C:/dataflights/untidy/auto-mpg.data', delim_whitespace = True, names = column_name)  \n",
    "car_list.head()"
   ]
  },
  {
   "cell_type": "markdown",
   "id": "480bf91d",
   "metadata": {},
   "source": [
    "### Used replace() to replace the value '?' with Not A Number values and converting it to numeric"
   ]
  },
  {
   "cell_type": "code",
   "execution_count": 251,
   "id": "8b2b1b94",
   "metadata": {},
   "outputs": [
    {
     "data": {
      "text/plain": [
       "dtype('float64')"
      ]
     },
     "execution_count": 251,
     "metadata": {},
     "output_type": "execute_result"
    }
   ],
   "source": [
    "car_list['Horsepower'] = car_list['Horsepower'].replace('?', np.NaN) \n",
    "car_list['Horsepower'] = car_list['Horsepower'].astype(float) \n",
    "car_list['Horsepower'].dtype"
   ]
  },
  {
   "cell_type": "markdown",
   "id": "9de454f6",
   "metadata": {},
   "source": [
    "### Used replace() to replace the origin values in accordance to assignment instructions"
   ]
  },
  {
   "cell_type": "code",
   "execution_count": 252,
   "id": "60e1a2a6",
   "metadata": {},
   "outputs": [],
   "source": [
    "car_list['Origin'].replace(1,'USA',inplace=True)\n",
    "car_list['Origin'].replace(2,'Asia',inplace=True)\n",
    "car_list['Origin'].replace(3,'Europe',inplace=True)"
   ]
  },
  {
   "cell_type": "code",
   "execution_count": 253,
   "id": "79bc46af",
   "metadata": {
    "scrolled": true
   },
   "outputs": [
    {
     "data": {
      "text/html": [
       "<div>\n",
       "<style scoped>\n",
       "    .dataframe tbody tr th:only-of-type {\n",
       "        vertical-align: middle;\n",
       "    }\n",
       "\n",
       "    .dataframe tbody tr th {\n",
       "        vertical-align: top;\n",
       "    }\n",
       "\n",
       "    .dataframe thead th {\n",
       "        text-align: right;\n",
       "    }\n",
       "</style>\n",
       "<table border=\"1\" class=\"dataframe\">\n",
       "  <thead>\n",
       "    <tr style=\"text-align: right;\">\n",
       "      <th></th>\n",
       "      <th>MPG</th>\n",
       "      <th>Cylinders</th>\n",
       "      <th>Displacement</th>\n",
       "      <th>Horsepower</th>\n",
       "      <th>Weight</th>\n",
       "      <th>Acceleration</th>\n",
       "      <th>Model Year</th>\n",
       "      <th>Origin</th>\n",
       "      <th>Car Name</th>\n",
       "    </tr>\n",
       "  </thead>\n",
       "  <tbody>\n",
       "    <tr>\n",
       "      <th>0</th>\n",
       "      <td>18.0</td>\n",
       "      <td>8</td>\n",
       "      <td>307.0</td>\n",
       "      <td>130.0</td>\n",
       "      <td>3504.0</td>\n",
       "      <td>12.0</td>\n",
       "      <td>70</td>\n",
       "      <td>USA</td>\n",
       "      <td>chevrolet chevelle malibu</td>\n",
       "    </tr>\n",
       "    <tr>\n",
       "      <th>1</th>\n",
       "      <td>15.0</td>\n",
       "      <td>8</td>\n",
       "      <td>350.0</td>\n",
       "      <td>165.0</td>\n",
       "      <td>3693.0</td>\n",
       "      <td>11.5</td>\n",
       "      <td>70</td>\n",
       "      <td>USA</td>\n",
       "      <td>buick skylark 320</td>\n",
       "    </tr>\n",
       "    <tr>\n",
       "      <th>2</th>\n",
       "      <td>18.0</td>\n",
       "      <td>8</td>\n",
       "      <td>318.0</td>\n",
       "      <td>150.0</td>\n",
       "      <td>3436.0</td>\n",
       "      <td>11.0</td>\n",
       "      <td>70</td>\n",
       "      <td>USA</td>\n",
       "      <td>plymouth satellite</td>\n",
       "    </tr>\n",
       "    <tr>\n",
       "      <th>3</th>\n",
       "      <td>16.0</td>\n",
       "      <td>8</td>\n",
       "      <td>304.0</td>\n",
       "      <td>150.0</td>\n",
       "      <td>3433.0</td>\n",
       "      <td>12.0</td>\n",
       "      <td>70</td>\n",
       "      <td>USA</td>\n",
       "      <td>amc rebel sst</td>\n",
       "    </tr>\n",
       "    <tr>\n",
       "      <th>4</th>\n",
       "      <td>17.0</td>\n",
       "      <td>8</td>\n",
       "      <td>302.0</td>\n",
       "      <td>140.0</td>\n",
       "      <td>3449.0</td>\n",
       "      <td>10.5</td>\n",
       "      <td>70</td>\n",
       "      <td>USA</td>\n",
       "      <td>ford torino</td>\n",
       "    </tr>\n",
       "  </tbody>\n",
       "</table>\n",
       "</div>"
      ],
      "text/plain": [
       "    MPG  Cylinders  Displacement  Horsepower  Weight  Acceleration  \\\n",
       "0  18.0          8         307.0       130.0  3504.0          12.0   \n",
       "1  15.0          8         350.0       165.0  3693.0          11.5   \n",
       "2  18.0          8         318.0       150.0  3436.0          11.0   \n",
       "3  16.0          8         304.0       150.0  3433.0          12.0   \n",
       "4  17.0          8         302.0       140.0  3449.0          10.5   \n",
       "\n",
       "   Model Year Origin                   Car Name  \n",
       "0          70    USA  chevrolet chevelle malibu  \n",
       "1          70    USA          buick skylark 320  \n",
       "2          70    USA         plymouth satellite  \n",
       "3          70    USA              amc rebel sst  \n",
       "4          70    USA                ford torino  "
      ]
     },
     "execution_count": 253,
     "metadata": {},
     "output_type": "execute_result"
    }
   ],
   "source": [
    "car_list.head()"
   ]
  },
  {
   "cell_type": "markdown",
   "id": "e6dc394b",
   "metadata": {},
   "source": [
    "### Created a variable that contains the value count for each cylinder given in the dataset(3,4,5,6,8). Then proceeded to graph the variable to show the distribution of the cylinders"
   ]
  },
  {
   "cell_type": "code",
   "execution_count": 254,
   "id": "72bdafd8",
   "metadata": {},
   "outputs": [
    {
     "data": {
      "text/plain": [
       "3      4\n",
       "4    204\n",
       "5      3\n",
       "6     84\n",
       "8    103\n",
       "Name: Cylinders, dtype: int64"
      ]
     },
     "execution_count": 254,
     "metadata": {},
     "output_type": "execute_result"
    }
   ],
   "source": [
    "cylinder_count = car_list['Cylinders'].value_counts()[[3,4,5,6,8]]\n",
    "cylinder_count"
   ]
  },
  {
   "cell_type": "code",
   "execution_count": 256,
   "id": "95738972",
   "metadata": {},
   "outputs": [
    {
     "data": {
      "text/plain": [
       "Text(0, 0.5, 'Count')"
      ]
     },
     "execution_count": 256,
     "metadata": {},
     "output_type": "execute_result"
    },
    {
     "data": {
      "image/png": "[encoded data removed]",
      "text/plain": [
       "<Figure size 640x480 with 1 Axes>"
      ]
     },
     "metadata": {},
     "output_type": "display_data"
    }
   ],
   "source": [
    "sns.set(style='darkgrid')\n",
    "cylinder_count.plot(title = 'Cylinder Distribution', kind='bar', color = 'red', width = .3)\n",
    "plt.xlabel('Cylinders')\n",
    "plt.ylabel('Count')"
   ]
  },
  {
   "cell_type": "markdown",
   "id": "3d0ee686",
   "metadata": {},
   "source": [
    "### Converted the values in 'Horsepower' and 'Weight' from strings to floats in order to create the scatter plot"
   ]
  },
  {
   "cell_type": "code",
   "execution_count": 257,
   "id": "0498ed70",
   "metadata": {},
   "outputs": [],
   "source": [
    "car_list['Horsepower'] = car_list['Horsepower'].astype(float) \n",
    "car_list['Weight'] = car_list['Weight'].astype(float)"
   ]
  },
  {
   "cell_type": "markdown",
   "id": "2bde4607",
   "metadata": {},
   "source": [
    "### Scatter plot showing the relationship between Horsepower and Weight, done with Matplotlib"
   ]
  },
  {
   "cell_type": "code",
   "execution_count": 258,
   "id": "d8e465a0",
   "metadata": {},
   "outputs": [
    {
     "data": {
      "text/plain": [
       "<AxesSubplot:title={'center':'Relationship between Horsepower and Weight'}, xlabel='Weight', ylabel='Horsepower'>"
      ]
     },
     "execution_count": 258,
     "metadata": {},
     "output_type": "execute_result"
    },
    {
     "data": {
      "image/png": "[encoded data removed]",
      "text/plain": [
       "<Figure size 640x480 with 1 Axes>"
      ]
     },
     "metadata": {},
     "output_type": "display_data"
    }
   ],
   "source": [
    "car_list.plot(title = 'Relationship between Horsepower and Weight', kind = 'scatter', x = 'Weight', y = 'Horsepower', color = 'blue')"
   ]
  },
  {
   "cell_type": "markdown",
   "id": "f08420a0",
   "metadata": {},
   "source": [
    "###### In response to the oil price shocks of the early 1970s, the US Congress passed the nation's first Corporate Average Fuel Economy(CAFE) standards in 1975. The law called for a doubling of passenger-vehicle efficiency to 27.5 miles per gallon (MPG) within 10 years. I decided to group the data set by USA, and make a histogram to show how the US was fairing in MPG with the 1970 and 1971 models in the data set."
   ]
  },
  {
   "cell_type": "code",
   "execution_count": 259,
   "id": "3ecb3be7",
   "metadata": {},
   "outputs": [
    {
     "data": {
      "text/plain": [
       "Text(0, 0.5, 'Frequency')"
      ]
     },
     "execution_count": 259,
     "metadata": {},
     "output_type": "execute_result"
    },
    {
     "data": {
      "image/png": "[encoded data removed]",
      "text/plain": [
       "<Figure size 640x480 with 1 Axes>"
      ]
     },
     "metadata": {},
     "output_type": "display_data"
    }
   ],
   "source": [
    "group = car_list.groupby('Origin')  \n",
    "USA = group.get_group('USA') \n",
    "USA.hist('MPG', bins= 8) \n",
    "plt.xlabel('MPG')\n",
    "plt.ylabel('Frequency')"
   ]
  }
 ],
 "metadata": {
  "kernelspec": {
   "display_name": "Python 3 (ipykernel)",
   "language": "python",
   "name": "python3"
  },
  "language_info": {
   "codemirror_mode": {
    "name": "ipython",
    "version": 3
   },
   "file_extension": ".py",
   "mimetype": "text/x-python",
   "name": "python",
   "nbconvert_exporter": "python",
   "pygments_lexer": "ipython3",
   "version": "3.9.13"
  }
 },
 "nbformat": 4,
 "nbformat_minor": 5
}
