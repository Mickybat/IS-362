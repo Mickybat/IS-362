{
 "cells": [
  {
   "cell_type": "code",
   "execution_count": 1,
   "id": "ff471340",
   "metadata": {},
   "outputs": [],
   "source": [
    "import requests\n",
    "from bs4 import BeautifulSoup \n",
    "import pandas as pd \n",
    "import mysql.connector \n",
    "import sqlite3\n",
    "import csv  \n",
    "from sklearn.linear_model import LogisticRegression   \n",
    "from sklearn.model_selection import train_test_split \n",
    "from sklearn.metrics import accuracy_score\n",
    "from sklearn.linear_model import LinearRegression\n",
    "from sklearn.model_selection import cross_val_score \n",
    "from sklearn.model_selection import GridSearchCV  \n",
    "from sklearn.neighbors import KNeighborsClassifier \n",
    "import numpy as np \n",
    "from sklearn import metrics   \n",
    "import seaborn as sns \n",
    "import matplotlib.pyplot as plt\n",
    "import warnings   \n",
    "warnings.filterwarnings('ignore')"
   ]
  },
  {
   "cell_type": "markdown",
   "id": "c9d8e056",
   "metadata": {},
   "source": [
    "# Motivation for analysis :\n",
    "This analysis aims to determine the validity of the statement that states that the Best Film Editing category is the best predictor of Best Picture"
   ]
  },
  {
   "cell_type": "markdown",
   "id": "cdf05670",
   "metadata": {},
   "source": [
    "## Scraping Data to use as reference.\n",
    "- This cell of code scrapes two lists from IMDB.COM, which I used for reference to make sure the Dataframes I created have the right information in them. I decided to look for lists that have the winners for best picture and best film editing. I then proceeded to make two dataframes with the information."
   ]
  },
  {
   "cell_type": "code",
   "execution_count": 2,
   "id": "7629aef9",
   "metadata": {},
   "outputs": [],
   "source": [
    "url_best_picture = \"https://www.imdb.com/list/ls009480135/?sort=list_order,asc&st_dt=&mode=simple&page=1&ref_=ttls_vw_smp\" \n",
    "url_best_edit = 'https://www.imdb.com/list/ls051258848/'\n",
    "response_1 = requests.get(url_best_picture)  \n",
    "response_2 = requests.get(url_best_edit)\n",
    "soup_1 = BeautifulSoup(response_1.content, \"html.parser\") \n",
    "soup_2 = BeautifulSoup(response_2.content, \"html.parser\") \n",
    "movie_elements_1 = soup_1.find_all(\"span\", class_=\"lister-item-header\")  \n",
    "movie_elements_2 = soup_2.find_all(\"h3\", class_=\"lister-item-header\") \n",
    "counter = 0\n",
    "titles_1 = []\n",
    "years_1 = [] \n",
    "titles_2 = [] \n",
    "years_2 = [] "
   ]
  },
  {
   "cell_type": "code",
   "execution_count": 3,
   "id": "206562f4",
   "metadata": {},
   "outputs": [],
   "source": [
    "for element in movie_elements_1:\n",
    "    title_element_1 = element.find(\"a\").text\n",
    "    year_element_1 = element.find(\"span\", class_=\"lister-item-year\").text.strip(\"()\")\n",
    "\n",
    "    titles_1.append(title_element_1)\n",
    "    years_1.append(year_element_1) \n",
    "\n",
    "data = {\"Winner_picture\": titles_1, \"Year\": years_1}\n",
    "df_best_picture = pd.DataFrame(data) \n",
    "\n",
    "for element in movie_elements_2:\n",
    "    title_element_2 = element.find(\"a\").text\n",
    "    year_element_2 = element.find(\"span\", class_=\"lister-item-year\").text.strip(\"()\")\n",
    "\n",
    "    titles_2.append(title_element_2)\n",
    "    years_2.append(year_element_2) \n",
    "    \n",
    "data = {\"Winner_edit\": titles_2, \"Year\": years_2}\n",
    "df_best_edit = pd.DataFrame(data) \n"
   ]
  },
  {
   "cell_type": "code",
   "execution_count": 4,
   "id": "08fbfbfa",
   "metadata": {},
   "outputs": [
    {
     "data": {
      "text/html": [
       "<div>\n",
       "<style scoped>\n",
       "    .dataframe tbody tr th:only-of-type {\n",
       "        vertical-align: middle;\n",
       "    }\n",
       "\n",
       "    .dataframe tbody tr th {\n",
       "        vertical-align: top;\n",
       "    }\n",
       "\n",
       "    .dataframe thead th {\n",
       "        text-align: right;\n",
       "    }\n",
       "</style>\n",
       "<table border=\"1\" class=\"dataframe\">\n",
       "  <thead>\n",
       "    <tr style=\"text-align: right;\">\n",
       "      <th></th>\n",
       "      <th>Winner_picture</th>\n",
       "      <th>Year</th>\n",
       "    </tr>\n",
       "  </thead>\n",
       "  <tbody>\n",
       "    <tr>\n",
       "      <th>0</th>\n",
       "      <td>Nomadland</td>\n",
       "      <td>2020</td>\n",
       "    </tr>\n",
       "    <tr>\n",
       "      <th>1</th>\n",
       "      <td>Parasite</td>\n",
       "      <td>2019</td>\n",
       "    </tr>\n",
       "    <tr>\n",
       "      <th>2</th>\n",
       "      <td>Green Book</td>\n",
       "      <td>2018</td>\n",
       "    </tr>\n",
       "    <tr>\n",
       "      <th>3</th>\n",
       "      <td>The Shape of Water</td>\n",
       "      <td>2017</td>\n",
       "    </tr>\n",
       "    <tr>\n",
       "      <th>4</th>\n",
       "      <td>Moonlight</td>\n",
       "      <td>I) (2016</td>\n",
       "    </tr>\n",
       "  </tbody>\n",
       "</table>\n",
       "</div>"
      ],
      "text/plain": [
       "       Winner_picture      Year\n",
       "0           Nomadland      2020\n",
       "1            Parasite      2019\n",
       "2          Green Book      2018\n",
       "3  The Shape of Water      2017\n",
       "4           Moonlight  I) (2016"
      ]
     },
     "execution_count": 4,
     "metadata": {},
     "output_type": "execute_result"
    }
   ],
   "source": [
    "df_best_picture.head()"
   ]
  },
  {
   "cell_type": "code",
   "execution_count": 5,
   "id": "28c69a3e",
   "metadata": {},
   "outputs": [
    {
     "data": {
      "text/html": [
       "<div>\n",
       "<style scoped>\n",
       "    .dataframe tbody tr th:only-of-type {\n",
       "        vertical-align: middle;\n",
       "    }\n",
       "\n",
       "    .dataframe tbody tr th {\n",
       "        vertical-align: top;\n",
       "    }\n",
       "\n",
       "    .dataframe thead th {\n",
       "        text-align: right;\n",
       "    }\n",
       "</style>\n",
       "<table border=\"1\" class=\"dataframe\">\n",
       "  <thead>\n",
       "    <tr style=\"text-align: right;\">\n",
       "      <th></th>\n",
       "      <th>Winner_edit</th>\n",
       "      <th>Year</th>\n",
       "    </tr>\n",
       "  </thead>\n",
       "  <tbody>\n",
       "    <tr>\n",
       "      <th>0</th>\n",
       "      <td>Ford v Ferrari</td>\n",
       "      <td>2019</td>\n",
       "    </tr>\n",
       "    <tr>\n",
       "      <th>1</th>\n",
       "      <td>Bohemian Rhapsody</td>\n",
       "      <td>2018</td>\n",
       "    </tr>\n",
       "    <tr>\n",
       "      <th>2</th>\n",
       "      <td>Dunkirk</td>\n",
       "      <td>2017</td>\n",
       "    </tr>\n",
       "    <tr>\n",
       "      <th>3</th>\n",
       "      <td>Hacksaw Ridge</td>\n",
       "      <td>2016</td>\n",
       "    </tr>\n",
       "    <tr>\n",
       "      <th>4</th>\n",
       "      <td>Mad Max: Fury Road</td>\n",
       "      <td>2015</td>\n",
       "    </tr>\n",
       "  </tbody>\n",
       "</table>\n",
       "</div>"
      ],
      "text/plain": [
       "          Winner_edit  Year\n",
       "0      Ford v Ferrari  2019\n",
       "1   Bohemian Rhapsody  2018\n",
       "2             Dunkirk  2017\n",
       "3       Hacksaw Ridge  2016\n",
       "4  Mad Max: Fury Road  2015"
      ]
     },
     "execution_count": 5,
     "metadata": {},
     "output_type": "execute_result"
    }
   ],
   "source": [
    "df_best_edit.head()"
   ]
  },
  {
   "cell_type": "markdown",
   "id": "39644800",
   "metadata": {},
   "source": [
    "# Source of data \n",
    "I decided to make the two dataframes manually, as I could not find a website that provided me with the same exact information I need in order to prepare the data for scikit-learn. The two dataframes contain four columns, one for the film name, the year, the winner and the nominees. The film name column has the name of the films and the year has the name of the years. The winner and nominee columns included a 1, and 0 for winner and losers respectively. In order to use the machine learning algorithms from scikit-learn, the algorithms needs a binary format for the targets in this case, and numerical values for the features."
   ]
  },
  {
   "cell_type": "code",
   "execution_count": 6,
   "id": "eadeb429",
   "metadata": {},
   "outputs": [],
   "source": [
    "data_best_picture = {'best_picture_films': ['Parasite','The Irishman','1917','Joker','Once Upon a Time... in Hollywood', 'Ford v Ferrari', \n",
    "'Marriage Story', 'Little Women', 'Jojo Rabbit','Green Book','Roma', 'The Favourite', 'Black Panther', 'A Star Is Born', \n",
    "'BlacKkKlansman','Bohemian Rhapsody', 'Vice','The Shape of Water', 'Three Billboards Outside Ebbing', 'Missouri; Dunkirk'\n",
    "'Lady Bird', 'Get Out', 'The Post', 'Darkest Hour', 'Call Me by Your Name', 'Phantom Thread','Moonlight', 'La La Land', \n",
    "'Manchester by the Sea', 'Hidden Figures: The Untold Story of the African American Women Who Helped win the Space Race', \n",
    "'Fences', 'Arrival', 'Hacksaw Ridge', 'Hell or High Water', 'Lion','Spotlight', 'The Revenant', 'The Big Short', \n",
    "'The Martian', 'Mad Max: Fury Road', 'Room', 'Bridge of Spies', 'Brooklyn','Birdman or (The Unexpected Virtue of Ignorance)', \n",
    "'American Sniper', 'Boyhood', 'The Grand Budapest Hotel', 'The Imitation Game', 'Selma', 'The Theory of Everything', \n",
    "'Whiplash','12 Years a Slave', 'Gravity', 'American Hustle', 'Dallas Buyers Club', 'Her', 'Philomena', 'The Wolf of Wall Street', \n",
    "'Captain Phillips', 'Nebraska','Argo', 'Lincoln', 'Zero Dark Thirty', 'Les Misérables', 'Life of Pi', 'Silver Linings Playbook', \n",
    "'Django Unchained', 'Amour', 'Beasts of the Southern Wild','The Artist', 'The Tree of Life', 'The Help', 'The Descendants', \n",
    "'Hugo', 'Midnight in Paris', 'Moneyball', 'War Horse', 'Extremely Loud & Incredibly Close','The King\\'s Speech',\n",
    "'The Social Network', 'Inception', '127 Hours', 'Black Swan', 'The Fighter', 'The Kids Are All Right', 'Toy Story 3', \n",
    "'True Grit', 'Winter\\'s Bone','The Hurt Locker','Avatar', 'The Blind Side','District 9', 'An Education', \n",
    "'Inglourious Basterds', 'Precious: Based on the Novel Push by Sapphire', 'A Serious Man', 'Up', 'Up in the Air',\n",
    "'Slumdog Millionaire', 'Frost/Nixon', 'Milk', 'The Curious Case of Benjamin Button', 'The Reader',\n",
    "'No Country for Old Men', 'There Will Be Blood', 'Atonement', 'Juno', 'Michael Clayton', 'The Departed', \n",
    "'Babel', 'Letters from Iwo Jima', 'Little Miss Sunshine', 'The Queen','Crash', 'Brokeback Mountain', 'Capote', \n",
    "'Good Night and Good Luck', 'Munich','Million Dollar Baby', 'Finding Neverland', 'Ray', 'Sideways', 'The Aviator',\n",
    "'The Lord of the Rings: The Return of the King','Lost in Traslation', 'Master and Commander', 'Mystic River', 'Seabiscuit',\n",
    "'Chicago', 'The Pianist', 'Gangs of New York', 'The Hours', 'The Lord of the Rings: The Two Towers',\n",
    "'A Beautiful Mind','The Lord of the Rings: The Fellowship of the Ring', 'Gosford Park', 'In The Bedroom', 'Moulin Rouge',\n",
    "'Gladiator' ,'Chocolat', 'Erin Brockovich', 'Traffic', 'Crouching Tiger Hidden Dragon',\n",
    "'American Beauty','The Cider House Rules', 'The Green Mile', 'The Insider', 'The Sixth Sense',\n",
    "'Shakespeare in Love', 'Elizabeth', 'Life is Beautiful', 'Saving Private Ryan', 'The Thin Red Line',\n",
    "'Titanic','Good Will Hunting', 'As Good as It Gets', 'L.A. Confidential', 'The Full Monty',\n",
    "'The English Patient','Fargo', 'Jerry Maguire', 'Secrets & Lies','Shine',\n",
    "'Braveheart','Apollo 13','Babe','The Postman','Sense and Sensibility','Forrest Gump', 'Pulp Fiction', \n",
    "'The Shawshank Redemption','Four Weddings and a Funeral', 'Quiz Show','Schindler\\'s List', 'In the Name of the Father', \n",
    "'The Fugitive', 'The Piano', 'The Remains of the Day','Unforgiven','A Few Good Men', 'Howards End', 'Scent of a Woman', \n",
    "'The Crying Game','The Silence of the Lambs', 'JFK', 'Bugsy', 'Beauty and the Beast', 'The Prince of Tides','Dances With Wolves',\n",
    "'The Godfather: Part III, Awakenings, Ghost', 'Goodfellas', 'Driving Miss Daisy' ,'Field of Dreams', 'Born on the Fourth of July', \n",
    "'Dead Poets Society', 'My Left Foot: The Story of Christy Brown','Rain Man','Mississippi Burning', 'Dangerous Liaisons', \n",
    "'The Accidental Tourist', 'Working Girl','The Last Emperor', 'Broadcast News', 'Fatal Attraction', 'Hope and Glory', 'Moonstruck',\n",
    "'Platoon','Hannah and Her Sisters', 'A Room with a View', 'Children of a Lesser God','The Mission',\n",
    "'Out of Africa','Kiss of the Spider Woman', 'Prizzi\\'s Honor', 'The Color Purple', 'Witness',\n",
    "'Amadeus','A Passage to India', 'A Soldier\\'s Story', 'Places in the Heart', 'The Killing Fields',\n",
    "'Terms of Endearment','The Right Stuff', 'Tender Mercies', 'The Big Chill', 'The Dresser',\n",
    "'Gandhi','E.T.: The Extra-Terrestrial', 'Missing', 'The Verdict', 'Tootsie',\n",
    "'Chariots of Fire','Raiders of the Lost Ark', 'On Golden Pond', 'Atlantic City', 'Reds',\n",
    "'Ordinary People','Raging Bull', 'Coal Miner\\'s Daughter', 'Tess','The Elephant Man',\n",
    "'Kramer vs. Kramer' , 'Apocalypse Now', 'All That Jazz', 'Breaking Away', 'Norma Rae',\n",
    "'The Deer Hunter','An Unmarried Woman', 'Coming Home', 'Heaven Can Wait', 'Midnight Express',\n",
    "'Annie Hall','Star Wars', 'Julia', 'The Goodbye Girl', 'The Turning Point',\n",
    "'Rocky ','Taxi Driver',' Network', 'All the President\\'s Men', 'Bound for Glory',\n",
    "'One Flew Over the Cuckoo\\'s Nest','Jaws', 'Barry Lyndon', 'Dog Day Afternoon', 'Nashville',\n",
    "'The Godfather, Part II', 'Chinatown', 'Lenny', 'The Conversation', 'The Towering Inferno',\n",
    "'The Sting','The Exorcist', 'A Touch of Class', 'American Graffiti', 'Cries and Whispers',\n",
    "'The Godfather', 'Cabaret', 'Deliverance', 'Sounder', 'The Emigrants',\n",
    "'The French Connection','A Clockwork Orange', 'Fiddler on the Roof', 'Nicholas and Alexandra', 'The Last Picture Show',\n",
    "'Patton','Airport', 'Five Easy Pieces', 'Love Story', 'MASH',\n",
    "'Midnight Cowboy','Butch Cassidy and the Sundance Kid', 'Anne of the Thousand Days', 'Hello Dolly!', 'Z',\n",
    "'Oliver!', 'Funny Girl', 'Rachel Rachel', 'Romeo and Juliet', 'The Lion in Winter',\n",
    "'In the Heat of the Night ','The Graduate', 'Bonnie and Clyde', 'Doctor Dolittle', 'Guess Who\\'s Coming to Dinner',\n",
    "'A Man for All Seasons','Alfie', 'The Russians Are Coming, the Russians Are Coming', 'The Sand Pebbles', 'Who\\'s Afraid of Virginia Woolf?',\n",
    "'The Sound of Music','Doctor Zhivago', 'A Thousand Clowns', 'Darling','Ship of Fools',\n",
    "'My Fair Lady','Mary Poppins', 'Alexis Zorbas', 'Becket', 'Dr. Strangelove',\n",
    "'Tom Jones','America America', 'Cleopatra', 'How the West Was Won', 'Lilies of the Field',\n",
    "'Lawrence of Arabia','Mutiny on the Bounty', 'The Longest Day', 'The Music Man', 'To Kill a Mockingbird',\n",
    "'West Side Story' ,'Fanny', 'Judgment at Nuremberg', 'The Guns of Navarone', 'The Hustler',\n",
    "'The Apartment ','Elmer Gantry', 'Sons and Lovers','The Alamo', 'The Sundowners',\n",
    "'Ben-Hur','Anatomy of a Murder', 'Room at the Top', 'The Diary of Anne Frank', 'The Nun\\'s Story',\n",
    "'Gigi','Auntie Mame', 'Cat on a Hot Tin Roof', 'Separate Tables', 'The Defiant Ones',\n",
    "'The Bridge on the River Kwai','12 Angry Men', 'Peyton Place', 'Sayonara', 'Witness for the Prosecution',\n",
    "'Around the World in Eighty Days','Giant', 'The Ten Commandments', 'Friendly Persuasion', 'The King and I',\n",
    "'Marty','Love Is a Many-Splendored Thing', 'Mister Roberts', 'Picnic', 'The Rose Tattoo',\n",
    "'On the Waterfront','The Caine Mutiny', 'Seven Brides for Seven Brothers', 'The Country Girl', 'Three Coins in the Fountain',\n",
    "'From Here to Eternity','Shane', 'Julius Caesar', 'Roman Holiday', 'The Robe',\n",
    "'The Greatest Show on Earth','High Noon', 'Ivanhoe', 'Moulin Rouge', 'The Quiet Man',\n",
    "'An American in Paris' ,'A Place in the Sun', 'A Streetcar Named Desire', 'Decision Before Dawn', 'Quo Vadis',\n",
    "'All About Eve',' Sunset Blvd.', 'Born Yesterday', 'Father of the Bride', 'King Solomon\\'s Mines',\n",
    "'All the King\\'s Men', 'A Letter to Three Wives', 'Battleground', 'The Heiress', 'Twelve O\\'Clock High',\n",
    "'Hamlet','The Treasure of the Sierra Madre', 'Johnny Belinda', 'The Red Shoes', 'The Snake Pit',\n",
    "'Gentleman\\'s Agreement','Crossfire', 'Great Expectations', 'Miracle on 34th Street', 'The Bishop\\'s Wife',\n",
    "'The Best Years of Our Lives','It\\'s a Wonderful Life', 'The Chronicle History of King Henry the Fifth with his Battell Fought at Agincourt in France', 'The Razor\\'s Edge', 'The Yearling',\n",
    "'The Lost Weekend','Mildred Pierce', 'Anchors Aweigh', 'Spellbound', 'The Bells of St. Mary\\'s',\n",
    "'Going My Way ','Double Indemnity', 'Gaslight', 'Since You Went Away', 'Wilson',\n",
    "'Casablanca','For Whom the Bell Tolls', 'Heaven Can Wait', 'In Which We Serve', 'Madame Curie', 'The Human Comedy', 'The More the Merrier', 'The Ox-Bow Incident','The Song of Bernadette','Watch on the Rhine',\n",
    "'Mrs. Miniver','Yankee Doodle Dandy', 'The Pride of the Yankees', 'The Magnificent Ambersons', '49th Parallel', 'Kings Row', 'Random Harvest', 'The Pied Piper', 'The Talk of the Town', 'Wake Island',\n",
    "'How Green Was My Valley','Citizen Kane', 'The Maltese Falcon', 'Suspicion', 'Sergeant York', 'Blossoms in the Dust', 'Here Comes Mr. Jordan','Hold Back the Dawn', 'One Foot in Heaven', 'The Little Foxes',\n",
    "'Rebecca','The Grapes of Wrath', 'The Philadelphia Story', 'The Great Dictator', 'All This and Heaven Too', 'Foreign Correspondent', 'Kitty Foyle: The Natural History of a Woman', 'Our Town', 'The Letter', 'The Long Voyage Home'\n",
    "],\n",
    "'Year': [2019,2019,2019,2019,2019,2019,2019,2019,2019,2018,2018,2018,2018,2018,2018,2018,2018,2017,2017,2017,2017,2017,2017,2017,2017,\n",
    "        2017,2016,2016,2016,2016,2016,2016,2016,2016,2016,2015,2015,2015,2015,2015,2015,2015,2015,2014,2014,2014,2014,2014,2014,2014,\n",
    "        2014,2013,2013,2013,2013,2013,2013,2013,2013,2013,2012,2012,2012,2012,2012,2012,2012,2012,2012,2011,2011,2011,2011,2011,2011,\n",
    "        2011,2011,2011,2010,2010,2010,2010,2010,2010,2010,2010,2010,2010,2009,2009,2009,2009,2009,2009,2009,2009,2009,2009, \n",
    "        2008,2008,2008,2008,2008,2007,2007,2007,2007,2007,2006,2006,2006,2006,2006,2005,2005,2005,2005,2005,2004,2004,2004,2004,2004,\n",
    "        2003,2003,2003,2003,2003,2002,2002,2002,2002,2002,2001,2001,2001,2001,2001,2000,2000,2000,2000,2000,1999,1999,1999,1999,1999,\n",
    "        1998,1998,1998,1998,1998,1997,1997,1997,1997,1997,1996,1996,1996,1996,1996,1995,1995,1995,1995,1995,1994,1994,1994,1994,1994,\n",
    "        1993,1993,1993,1993,1993,1992,1992,1992,1992,1992,1991,1991,1991,1991,1991,1990,1990,1990,1990,1990,1989,1989,1989,1989,1989,\n",
    "        1988,1988,1988,1988,1988,1987,1987,1987,1987,1987,1986,1986,1986,1986,1986,1985,1985,1985,1985,1985,1984,1984,1984,1984,1984,\n",
    "        1983,1983,1983,1983,1983,1982,1982,1982,1982,1982,1981,1981,1981,1981,1981,1980,1980,1980,1980,1980,1979,1979,1979,1979,1979,\n",
    "        1978,1978,1978,1978,1978,1977,1977,1977,1977,1977,1976,1976,1976,1976,1976,1975,1975,1975,1975,1975,1974,1974,1974,1974,1974,\n",
    "        1973, 1973, 1973, 1973, 1973,1972,1972,1972,1972,1972,1971,1971,1971,1971,1971,1970,1970,1970,1970,1970,1969,1969,1969,1969,1969,\n",
    "        1968,1968,1968,1968,1968,1967,1967,1967,1967,1967,1966,1966,1966,1966,1966,1965,1965,1965,1965,1965,1964,1964,1964,1964,1964,\n",
    "        1963,1963,1963,1963,1963,1962,1962,1962,1962,1962,1961,1961,1961,1961,1961,1960,1960,1960,1960,1960,1959,1959,1959,1959,1959,\n",
    "        1958,1958,1958,1958,1958,1957,1957,1957,1957,1957,1956,1956,1956,1956,1956,1955,1955,1955,1955,1955,1954,1954,1954,1954,1954,\n",
    "        1953,1953,1953,1953,1953,1952,1952,1952,1952,1952,1951,1951,1951,1951,1951,1950,1950,1950,1950,1950,1949,1949,1949,1949,1949,\n",
    "        1948,1948,1948,1948,1948,1947,1947,1947,1947,1947,1946,1946,1946,1946,1946,1945,1945,1945,1945,1945,1944,1944,1944,1944,1944,\n",
    "        1943, 1943, 1943, 1943, 1943, 1943, 1943, 1943, 1943, 1943,1942,1942,1942,1942,1942,1942,1942,1942,1942,1941,1941,1941,\n",
    "        1941,1941,1941,1941,1941,1941,1941,1940,1940,1940,1940,1940,1940,1940,1940],\n",
    "'best_picture_winners': [1,0,0,0,0,0,0,0,0,1,0,0,0,0,0,0,0,1,0,0,0,0,0,0,0,0,1,0,0,0,0,0,0,0,0,1,0,0,0,0,0,0,0,1,0,0,0,0,0,0,0,1,0,0,0,0,0,0,0,0,\n",
    "         1,0,0,0,0,0,0,0,0,1,0,0,0,0,0,0,0,0,1,0,0,0,0,0,0,0,0,0,1,0,0,0,0,0,0,0,0,0,1,0,0,0,0,1,0,0,0,0,1,0,0,0,0,1,0,0,0,0,1,0,0,0,0,\n",
    "         1,0,0,0,0,1,0,0,0,0,1,0,0,0,0,1,0,0,0,0,1,0,0,0,0,1,0,0,0,0,1,0,0,0,0,1,0,0,0,0,1,0,0,0,0,1,0,0,0,0,1,0,0,0,0,1,0,0,0,0,\n",
    "         1,0,0,0,0,1,0,0,0,0,1,0,0,0,0,1,0,0,0,0,1,0,0,0,0,1,0,0,0,0,1,0,0,0,0,1,0,0,0,0,1,0,0,0,0,1,0,0,0,0,1,0,0,0,0,1,0,0,0,0,\n",
    "         1,0,0,0,0,1,0,0,0,0,1,0,0,0,0,1,0,0,0,0,1,0,0,0,0,1,0,0,0,0,1,0,0,0,0,1,0,0,0,0,1,0,0,0,0,1,0,0,0,0,1,0,0,0,0,1,0,0,0,0,\n",
    "         1,0,0,0,0,1,0,0,0,0,1,0,0,0,0,1,0,0,0,0,1,0,0,0,0,1,0,0,0,0,1,0,0,0,0,1,0,0,0,0,1,0,0,0,0,1,0,0,0,0,1,0,0,0,0,1,0,0,0,0,\n",
    "         1,0,0,0,0,1,0,0,0,0,1,0,0,0,0,1,0,0,0,0,1,0,0,0,0,1,0,0,0,0,1,0,0,0,0,1,0,0,0,0,1,0,0,0,0,1,0,0,0,0,1,0,0,0,0,1,0,0,0,0,\n",
    "         1,0,0,0,0,0,0,0,0,0,1,0,0,0,0,0,0,0,0,1,0,0,0,0,0,0,0,0,0,1,0,0,0,0,0,0,0],\n",
    "'best_picture_nominees': [0,1,1,1,1,1,1,1,1,0,1,1,1,1,1,1,1,1,0,1,1,1,1,1,1,1,1,0,1,1,1,1,1,1,1,1,0,1,1,1,1,1,1,1,0,1,1,1,1,1,1,1,0,1,1,1,1,1,1,1,1,\n",
    "         0,1,1,1,1,1,1,1,1,0,1,1,1,1,1,1,1,1,0,1,1,1,1,1,1,1,1,1,0,1,1,1,1,1,1,1,1,1,0,1,1,1,1,0,1,1,1,1,0,1,1,1,1,0,1,1,1,1,0,1,1,1,1,\n",
    "         0,1,1,1,1,0,1,1,1,1,0,1,1,1,1,0,1,1,1,1,0,1,1,1,1,0,1,1,1,1,0,1,1,1,1,0,1,1,1,1,0,1,1,1,1,0,1,1,1,1,0,1,1,1,1,0,1,1,1,1,\n",
    "         0,1,1,1,1,0,1,1,1,1,0,1,1,1,1,0,1,1,1,1,0,1,1,1,1,0,1,1,1,1,0,1,1,1,1,0,1,1,1,1,0,1,1,1,1,0,1,1,1,1,0,1,1,1,1,0,1,1,1,1,\n",
    "         0,1,1,1,1,0,1,1,1,1,0,1,1,1,1,0,1,1,1,1,0,1,1,1,1,0,1,1,1,1,0,1,1,1,1,0,1,1,1,1,0,1,1,1,1,0,1,1,1,1,0,1,1,1,1,0,1,1,1,1,\n",
    "         0,1,1,1,1,0,1,1,1,1,0,1,1,1,1,0,1,1,1,0,1,1,1,1,0,1,1,1,1,0,1,1,1,1,0,1,1,1,1,0,1,1,1,1,0,1,1,1,1,0,1,1,1,1,0,1,1,1,1,\n",
    "         0,1,1,1,1,0,1,1,1,1,0,1,1,1,1,0,1,1,1,1,0,1,1,1,1,0,1,1,1,1,0,1,1,1,1,0,1,1,1,1,0,1,1,1,1,0,1,1,1,1,0,1,1,1,1,0,1,1,1,1,\n",
    "         0,1,1,1,1,1,1,1,1,1,0,1,1,1,1,1,1,1,1,0,1,1,1,1,1,1,1,1,1,0,1,1,1,1,1,1,1]}\n",
    "        \n",
    "\n"
   ]
  },
  {
   "cell_type": "code",
   "execution_count": 7,
   "id": "ff037f52",
   "metadata": {},
   "outputs": [
    {
     "data": {
      "text/html": [
       "<div>\n",
       "<style scoped>\n",
       "    .dataframe tbody tr th:only-of-type {\n",
       "        vertical-align: middle;\n",
       "    }\n",
       "\n",
       "    .dataframe tbody tr th {\n",
       "        vertical-align: top;\n",
       "    }\n",
       "\n",
       "    .dataframe thead th {\n",
       "        text-align: right;\n",
       "    }\n",
       "</style>\n",
       "<table border=\"1\" class=\"dataframe\">\n",
       "  <thead>\n",
       "    <tr style=\"text-align: right;\">\n",
       "      <th></th>\n",
       "      <th>best_picture_films</th>\n",
       "      <th>Year</th>\n",
       "      <th>best_picture_winners</th>\n",
       "      <th>best_picture_nominees</th>\n",
       "    </tr>\n",
       "  </thead>\n",
       "  <tbody>\n",
       "    <tr>\n",
       "      <th>0</th>\n",
       "      <td>Parasite</td>\n",
       "      <td>2019</td>\n",
       "      <td>1</td>\n",
       "      <td>0</td>\n",
       "    </tr>\n",
       "    <tr>\n",
       "      <th>1</th>\n",
       "      <td>The Irishman</td>\n",
       "      <td>2019</td>\n",
       "      <td>0</td>\n",
       "      <td>1</td>\n",
       "    </tr>\n",
       "    <tr>\n",
       "      <th>2</th>\n",
       "      <td>1917</td>\n",
       "      <td>2019</td>\n",
       "      <td>0</td>\n",
       "      <td>1</td>\n",
       "    </tr>\n",
       "    <tr>\n",
       "      <th>3</th>\n",
       "      <td>Joker</td>\n",
       "      <td>2019</td>\n",
       "      <td>0</td>\n",
       "      <td>1</td>\n",
       "    </tr>\n",
       "    <tr>\n",
       "      <th>4</th>\n",
       "      <td>Once Upon a Time... in Hollywood</td>\n",
       "      <td>2019</td>\n",
       "      <td>0</td>\n",
       "      <td>1</td>\n",
       "    </tr>\n",
       "  </tbody>\n",
       "</table>\n",
       "</div>"
      ],
      "text/plain": [
       "                 best_picture_films  Year  best_picture_winners  \\\n",
       "0                          Parasite  2019                     1   \n",
       "1                      The Irishman  2019                     0   \n",
       "2                              1917  2019                     0   \n",
       "3                             Joker  2019                     0   \n",
       "4  Once Upon a Time... in Hollywood  2019                     0   \n",
       "\n",
       "   best_picture_nominees  \n",
       "0                      0  \n",
       "1                      1  \n",
       "2                      1  \n",
       "3                      1  \n",
       "4                      1  "
      ]
     },
     "execution_count": 7,
     "metadata": {},
     "output_type": "execute_result"
    }
   ],
   "source": [
    "best_picture = pd.DataFrame(data_best_picture)  \n",
    "best_picture.head()"
   ]
  },
  {
   "cell_type": "code",
   "execution_count": 8,
   "id": "17f66dfd",
   "metadata": {},
   "outputs": [],
   "source": [
    "data_best_edit = {'best_edit_films' : ['Ford v Ferrari','The Irishman', 'Jojo Rabbit', 'Joker', 'Parasite','Bohemian Rhapsody','BlacKkKlasman', 'The Favourite', 'Green Book', 'Vice',\n",
    "'Dunkirk','Baby Driver','I, Tonya','The Shape of Water','Three Billboards Outside Ebbing','Hacksaw Ridge','Missouri','Arrival', 'Hell or High Water', 'La La Land', 'Moonlight',\n",
    "'Mad Max:Fury Road','The Big Short','The Revenant','Spotlight','Star Wars: The Force Awakens','Whiplash','American Sniper','Boyhood','The Grand Budapest Hotel',\n",
    "'The Imitation Game','Gravity','12 Years a Slave','American Hustle','Captain Phillips','Dallas Buyers Club','Argo','Life of Pi', 'Lincoln', 'Silver Linings Playbook', 'Zero Dark Thirty',\n",
    "'The Girl with the Dragon Tatto','The Artist', 'The Descendants', 'Hugo', 'Moneyball',\n",
    "'The Social Network','127 Hours', 'Black Swan', 'The Fighter', 'The King\\'s Speech','The Hurt Locker','Avatar', 'District 9', 'Inglourious Basterds', 'Precious',\n",
    "'Slumdog Millionaire','The Curious Case of Benjamin Button','The Dark Knight','Frost/Nixon','Milk','The Bourne Ultimatum','The Diving Bell and the Butterfly',\n",
    "'Into the Wild','No Country for Old Men','There Will Be Blood','The Departed','Babel', 'Blood Diamond', 'Children of Men', 'United 93',\n",
    "'Crash','Cinderella Man','The Constant Gardener', 'Munich', 'Walk the Line',\n",
    "'The Aviator','Collateral', 'Finding Neverland', 'Million Dollar Baby', 'Ray','The Lord of the Rings: The Return of the King','City of God',\n",
    "'Cold Mountain','Master and Commander: The Far Side of the World','Seabiscuit',\n",
    "'Chicago','Gangs of New York','The Hours','The Lord of the Rings: The Two Towers','The Pianist','Black Hawk Down','A Beutiful Mind',\n",
    "'The Lord of the Rings: The Fellowship of the Ring','Memento','Moulin Rouge!',\n",
    "'Traffic','Almost Famous','Crouching Tiger, Hidden Dragon','Gladiator','Wonder Boys','The Matrix','American Beauty',\n",
    "'The Cider House Rules','The Insider','The Sixth Sense','Saving Private Ryan','Life is Beautiful','Out of Sight','Shakespeare in Love',\n",
    "'The Thin Red Line','Titanic','Air Force One','As Good as It Gets','Good Will Hunting','L.A. Confidential','The English Patient','Evita', 'Fargo', 'Jerry Maguire', 'Shine',\n",
    "'Apollo 13','Babe', 'Braveheart', 'Crimson Tide', 'Seven','Forrest Gump','Hoop Dreamers', 'Pulp Fiction', 'The Shawshank Redemption', 'Speed',\n",
    "'Schindler\\'s List','The Fugitive','In the Line of Fire','In the Name of the Father','The Piano',\n",
    "'Unforgiven','Basic Instict', 'The Crying Game', 'A Few Good Men', 'The Player','JFK','The Commitments','The Silence of the Lambs',\n",
    "'Terminator 2: Judgment Day','Thelma & Louise','Dance with Wolves','Ghost', 'The Godfather Part III', 'Goodfellas', 'The Hunt for Red October',\n",
    "'Born on the Fourth of July','The Bear', 'Driving Miss Daisy', 'The Fabulous Baker Boys', 'Glory','Who Framed Roger Rabbit','Die Hard', 'Gorillas in the Mist', 'Mississippi Burning', 'Rain Man',\n",
    "'The Last Emperor','Broadcast News', 'Empire of the Sun', 'Fatal Attraction', 'RoboCop',\n",
    "'Platoon','Aliens', 'Hannah and Her Sisters', 'The Mission', 'Top Gun',\n",
    "'Witness','A Chorus Line', 'Out of Africa', 'Prizzi\\'s Honor', 'Runaway Train','The Killing Fields','Amadeus', 'The Cotton Club', 'A Passage to India', 'Romancing the Stone',\n",
    "'The Right Stuff','Blue Thunder', 'Flashdance', 'Silkwood', 'Terms of Endearment','Gandhi','Das Boot','E.T. the Extra-Terrestrial',\n",
    "'An Officer and a Gentleman','Tootsie','Raiders of the Lost Ark','Chariots of Fire','The French Lieutenant\\'s Woman','On Golden Pond',\n",
    "'Reds','Raging Bull','Coal Miner\\'s Daugther', 'The Competition', 'The Elephant Man', 'Fame','All That Jazz','Apocalypse Now', 'The Black Stallion', 'Kramer vs. Kramer', 'The Rose',\n",
    "'The Deer Hunter','The Boys from Brazil', 'Coming Home', 'Midnight Express', 'Superman',\n",
    "'Star Wars', 'Close Encounters of the Third Kind',\n",
    "'Julia','Smokey and the Bandit','The Turning Point','Rocky','All the President\\'s Men','Bound for Glory','Network','Two-Minute Warning',\n",
    "'Jaws','Dog Day Afternoon','The Man Who Would Be King','One Flew Over the Cucko\\'s Nest','Three Days of the Condor',\n",
    "'The Towering Inferno','Blazing Saddles', 'Chinatown', 'Earthquake', 'The Longest Yard','The Sting','American Graffiti','The Day of the Jackal',\n",
    "'The Exorcist','Jonathan Livingston Seagull','Cabaret','Deliverance', 'The Godfather', 'The Hot Rock', 'The Poseidon Adventure',\n",
    "'The French Connection','The Andromeda Strain', 'A Clockwork Orange', 'Kotch', 'Summer of 42',\n",
    "'Patton','Airport', 'MASH', 'Tora! Tora! Tora!', 'Woodstock','Z','Hello, Dolly!','Midnight Cowboy','The Secret of Santa Vittoria',\n",
    "'They Shoot Horses, Don\\'t They?','Bullit','Funny Girl', 'The Odd Couple', 'Oliver!', 'Wild in the Streets',\n",
    "'In the Heat of Night','Beach Red', 'The Dirty Dozen','Doctor Dolittle','Guess Who\\'s Coming to Dinner',\n",
    "'Grand Prix','Fantastic Voyage', 'The Russians Are Coming, the Russians Are Coming','The Sand Pebbles',\n",
    "'Who\\'s Afraid of Virginia Woolf?','The Sound of Music','Cat Ballou','Doctor Zhivago','The Flight of the Phoenix','The Great Race',\n",
    "'Mary Poppins','Becket', 'Father Goose', 'Hush...Hush, Sweet Charlotte', 'My Fair Lady',\n",
    "'How the West was Won','The Cardinal',\n",
    "'Cleopatra','The Great Escape','It\\'s a Mad, Mad, Mad, Mad World','Lawrence of Arabia','The Longest Day','The Manchurian Candidate',\n",
    "'The Music Man','Mutiny on the Bounty','West Side Story','Fanny', 'The Guns of Navarone', 'Judgment at Nuremberg', 'The Parent Trap',\n",
    "'The Apartment','The Alamo', 'Inherit the Wind', 'Pepe', 'Spartacus',\n",
    "'Ben-Hur','Anatomy of a Murderer','North by Northwest', 'The Nun\\'s Story',\n",
    "'On the Beach','Gigi','Auntie Mame', 'Cowboy', 'The Defiant Ones', 'I Want to Live!',\n",
    "'The Bridge on the River Kwai','Gunfight at the O.K Corral','Pal Joey','Sayonara','Witness for the Prosecution','Around the World in 80 Days','The Brave One',\n",
    "'Giant','Somebody Up There Likes Me','The Ten Commandments','Picnic','Blackboard Jungle','The Bridges at Toko-Ri','Oklahoma!',\n",
    "'The Rose Tattoo','On the Waterfront','20,000 Leagues Under the Sea','The Caine Mutiny','The High and the Mighty','Seven Brides for Seven Brothers',\n",
    "'From Here to Eternity','Crazylegs', 'The Moon Is Blue', 'Roman Holiday', 'The War of the Worlds','High Noon','Come Back, Little Sheba',\n",
    "'Flat Top','The Greatest Show on Earth','Moulin Rouge',\n",
    " 'A Place in the Sun','An American in Paris', 'Decision Before Dawn', 'Quo Vadis', 'The Well',\n",
    "'King Solomon\\'s Mines', 'All About Eve', 'Annie Get Your Gun', 'Sunset Boulevard', 'The Third Man',\n",
    " 'Champion','All the King\\s Men', 'Battleground', 'Sands of Iwo Jima', 'The Window',\n",
    " 'The Naked City','Joan of Arc', 'Johnny Belinda', 'Red River', 'The Red Shoes','Body and Soul','The Bishop\\'s Wife',\n",
    "'Gentleman\\'s Agreement','Green Dolphin Street','Odd Man Out','The Best Years of Our Lives','It\\'s a Wonderful Life', 'The Jolson Story', 'The Killers', 'The Yearling',\n",
    "'National Velvet','The Bells of St. Mary\\'s','The Lost Weekend','Objective, Burma!','A Song to Remember','Wilson','Going My Way', 'Janie', 'None but the Lonely Heart', 'Since You Went Away',\n",
    "'Air Force','Casablanca','Five Graves to Cairo', 'For Whom the Bell Tolls','The Song of Bernadette','The Pride of the Yankees','Mrs. Miniver','The Talk of the Town','This Above All',\n",
    "'Yankee Doodle Dandy','Sergeant York','Citizen Kane','Dr. Jekyll and Mr. Hyde','How Green Was My Valley','The Little Foxes',\n",
    "'North West Mounted Police','The Grapes of Wrath', 'The Letter', 'The Long Voyage Home'],\n",
    "'Year' : [2019,2019,2019,2019,2019,2018,2018,2018,2018,2018,2017,2017,2017,2017,2017,2016,2016,2016,2016,2016,2015,2015,2015,2015,2015,\n",
    "       2014,2014,2014,2014,2014,2013,2013,2013,2013,2013,2012,2012,2012,2012,2012,2011,2011,2011,2011,2011,2010,2010,2010,2010,2010,\n",
    "       2009,2009,2009,2009,2009,2008,2008,2008,2008,2008,2007,2007,2007,2007,2007,2006,2006,2006,2006,2006,2005,2005,2005,2005,2005,\n",
    "       2004,2004,2004,2004,2004,2003,2003,2003,2003,2003,2002,2002,2002,2002,2002,2001,2001,2001,2001,2001,2000,2000,2000,2000,2000,1999,1999,1999,1999,1999,\n",
    "       1998,1998,1998,1998,1998,1997,1997,1997,1997,1997,1996,1996,1996,1996,1996,1995,1995,1995,1995,1995,1994,1994,1994,1994,1994,\n",
    "       1993, 1993, 1993, 1993, 1993,1992,1992,1992,1992,1992,1991,1991,1991,1991,1991,1990,1990,1990,1990,1990,1989,1989,1989,1989,1989,\n",
    "       1988,1988,1988,1988,1988,1987,1987,1987,1987,1987,1986,1986,1986,1986,1986,1985,1985,1985,1985,1985,1984,1984,1984,1984,1984,\n",
    "       1983,1983,1983,1983,1983,1982,1982,1982,1982,1982,1981,1981,1981,1981,1981,1980,1980,1980,1980,1980,1979,1979,1979,1979,1979,\n",
    "       1978,1978,1978,1978,1978,1977,1977,1977,1977,1977,1976,1976,1976,1976,1976,1975,1975,1975,1975,1975,1974,1974,1974,1974,1974,\n",
    "       1973,1973,1973,1973,1973,1972,1972,1972,1972,1972,1971,1971,1971,1971,1971,1970,1970,1970,1970,1970, 1969, 1969, 1969, 1969, 1969,\n",
    "       1968,1968,1968,1968,1968,1967,1967,1967,1967,1967,1966,1966,1966,1966,1966,1965,1965,1965,1965,1965,1964,1964,1964,1964,1964,\n",
    "       1963,1963,1963,1963,1963,1962,1962,1962,1962,1962,1961,1961,1961,1961,1961,1960,1960,1960,1960,1960,1959,1959,1959,1959,1959,\n",
    "       1958,1958,1958,1958,1958,1957,1957,1957,1957,1957,1956,1956,1956,1956,1956,\n",
    "       1955,1955,1955,1955,1955,1954,1954,1954,1954,1954,1953,1953,1953,1953,1953,1952,1952,1952,1952,1952,1951,1951,1951,1951,1951,\n",
    "       1950,1950,1950,1950,1950,1949,1949,1949,1949,1949,1948,1948,1948,1948,1948,1947,1947,1947,1947,1947,1946,1946,1946,1946,1946,\n",
    "       1945,1945,1945,1945,1945,1944,1944,1944,1944,1944,1943,1943,1943,1943,1943,1942,1942,1942,1942,1942,1941,1941,1941,1941,1941,\n",
    "       1940,1940,1940,1940,1940,],\n",
    "'best_edit_winners' : [1,0,0,0,0,1,0,0,0,0,1,0,0,0,0,1,0,0,0,0,1,0,0,0,0,1,0,0,0,0,1,0,0,0,0,1,0,0,0,0,1,0,0,0,0,1,0,0,0,0,1,0,0,0,0,1,0,0,0,0,\n",
    "            1,0,0,0,0,1,0,0,0,0,1,0,0,0,0,1,0,0,0,0,1,0,0,0,0,1,0,0,0,0,1,0,0,0,0,1,0,0,0,0,1,0,0,0,0,1,0,0,0,0,1,0,0,0,0,1,0,0,0,0,1,0,0,0,0,\n",
    "            1,0,0,0,0,1,0,0,0,0,1,0,0,0,0,1,0,0,0,0,1,0,0,0,0,1,0,0,0,0,1,0,0,0,0,1,0,0,0,0,1,0,0,0,0,1,0,0,0,0,1,0,0,0,0,1,0,0,0,0,\n",
    "            1,0,0,0,0,1,0,0,0,0,1,0,0,0,0,1,0,0,0,0,1,0,0,0,0,1,0,0,0,0,1,0,0,0,0,1,0,0,0,0,1,0,0,0,0,1,0,0,0,0,1,0,0,0,0,1,0,0,0,0,1,0,0,0,0,\n",
    "            1,0,0,0,0,1,0,0,0,0,1,0,0,0,0,1,0,0,0,0,1,0,0,0,0,1,0,0,0,0,1,0,0,0,0,1,0,0,0,0,1,0,0,0,0,1,0,0,0,0,1,0,0,0,0,1,0,0,0,0,1,0,0,0,0,\n",
    "            1,0,0,0,0,1,0,0,0,0,1,0,0,0,0,1,0,0,0,0,1,0,0,0,0,1,0,0,0,0,1,0,0,0,0,1,0,0,0,0,1,0,0,0,0,1,0,0,0,0,1,0,0,0,0,1,0,0,0,0,1,0,0,0,0,\n",
    "            1,0,0,0,0,1,0,0,0,0,1,0,0,0,0,1,0,0,0,0], \n",
    "                     \n",
    "'best_edit_nominees' : [0,1,1,1,1,0,1,1,1,1,0,1,1,1,1,0,1,1,1,1,0,1,1,1,1,0,1,1,1,1,0,1,1,1,1,0,1,1,1,1,0,1,1,1,1,0,1,1,1,1,0,1,1,1,1,0,1,1,1,1,\n",
    "            0,1,1,1,1,0,1,1,1,1,0,1,1,1,1,0,1,1,1,1,0,1,1,1,1,0,1,1,1,1,0,1,1,1,1,0,1,1,1,1,0,1,1,1,1,0,1,1,1,1,0,1,1,1,1,0,1,1,1,1,\n",
    "            0,1,1,1,1,0,1,1,1,1,0,1,1,1,1,0,1,1,1,1,0,1,1,1,1,0,1,1,1,1,0,1,1,1,1,0,1,1,1,1,0,1,1,1,1,0,1,1,1,1,0,1,1,1,1,0,1,1,1,1,\n",
    "            0,1,1,1,1,0,1,1,1,1,0,1,1,1,1,0,1,1,1,1,0,1,1,1,1,0,1,1,1,1,0,1,1,1,1,0,1,1,1,1,0,1,1,1,1,0,1,1,1,1,0,1,1,1,1,0,1,1,1,1,0,1,1,1,1,\n",
    "            0,1,1,1,1,0,1,1,1,1,0,1,1,1,1,0,1,1,1,1,0,1,1,1,1,0,1,1,1,1,0,1,1,1,1,0,1,1,1,1,0,1,1,1,1,0,1,1,1,1,0,1,1,1,1,0,1,1,1,1,0,1,1,1,1,\n",
    "            0,1,1,1,1,0,1,1,1,1,0,1,1,1,1,0,1,1,1,1,0,1,1,1,1,0,1,1,1,1,0,1,1,1,1,0,1,1,1,1,0,1,1,1,1,0,1,1,1,1,0,1,1,1,1,0,1,1,1,1,0,1,1,1,1,\n",
    "            0,1,1,1,1,0,1,1,1,1,0,1,1,1,1,0,1,1,1,1,0,1,1,1,1,]}                \n",
    "                    \n",
    "            "
   ]
  },
  {
   "cell_type": "code",
   "execution_count": 9,
   "id": "801f7490",
   "metadata": {},
   "outputs": [
    {
     "data": {
      "text/html": [
       "<div>\n",
       "<style scoped>\n",
       "    .dataframe tbody tr th:only-of-type {\n",
       "        vertical-align: middle;\n",
       "    }\n",
       "\n",
       "    .dataframe tbody tr th {\n",
       "        vertical-align: top;\n",
       "    }\n",
       "\n",
       "    .dataframe thead th {\n",
       "        text-align: right;\n",
       "    }\n",
       "</style>\n",
       "<table border=\"1\" class=\"dataframe\">\n",
       "  <thead>\n",
       "    <tr style=\"text-align: right;\">\n",
       "      <th></th>\n",
       "      <th>best_edit_films</th>\n",
       "      <th>Year</th>\n",
       "      <th>best_edit_winners</th>\n",
       "      <th>best_edit_nominees</th>\n",
       "    </tr>\n",
       "  </thead>\n",
       "  <tbody>\n",
       "    <tr>\n",
       "      <th>0</th>\n",
       "      <td>Ford v Ferrari</td>\n",
       "      <td>2019</td>\n",
       "      <td>1</td>\n",
       "      <td>0</td>\n",
       "    </tr>\n",
       "    <tr>\n",
       "      <th>1</th>\n",
       "      <td>The Irishman</td>\n",
       "      <td>2019</td>\n",
       "      <td>0</td>\n",
       "      <td>1</td>\n",
       "    </tr>\n",
       "    <tr>\n",
       "      <th>2</th>\n",
       "      <td>Jojo Rabbit</td>\n",
       "      <td>2019</td>\n",
       "      <td>0</td>\n",
       "      <td>1</td>\n",
       "    </tr>\n",
       "    <tr>\n",
       "      <th>3</th>\n",
       "      <td>Joker</td>\n",
       "      <td>2019</td>\n",
       "      <td>0</td>\n",
       "      <td>1</td>\n",
       "    </tr>\n",
       "    <tr>\n",
       "      <th>4</th>\n",
       "      <td>Parasite</td>\n",
       "      <td>2019</td>\n",
       "      <td>0</td>\n",
       "      <td>1</td>\n",
       "    </tr>\n",
       "  </tbody>\n",
       "</table>\n",
       "</div>"
      ],
      "text/plain": [
       "  best_edit_films  Year  best_edit_winners  best_edit_nominees\n",
       "0  Ford v Ferrari  2019                  1                   0\n",
       "1    The Irishman  2019                  0                   1\n",
       "2     Jojo Rabbit  2019                  0                   1\n",
       "3           Joker  2019                  0                   1\n",
       "4        Parasite  2019                  0                   1"
      ]
     },
     "execution_count": 9,
     "metadata": {},
     "output_type": "execute_result"
    }
   ],
   "source": [
    "best_edit = pd.DataFrame(data_best_edit)  \n",
    "best_edit.head()"
   ]
  },
  {
   "cell_type": "code",
   "execution_count": 10,
   "id": "9ae7ee2f",
   "metadata": {},
   "outputs": [
    {
     "data": {
      "text/html": [
       "<div>\n",
       "<style scoped>\n",
       "    .dataframe tbody tr th:only-of-type {\n",
       "        vertical-align: middle;\n",
       "    }\n",
       "\n",
       "    .dataframe tbody tr th {\n",
       "        vertical-align: top;\n",
       "    }\n",
       "\n",
       "    .dataframe thead th {\n",
       "        text-align: right;\n",
       "    }\n",
       "</style>\n",
       "<table border=\"1\" class=\"dataframe\">\n",
       "  <thead>\n",
       "    <tr style=\"text-align: right;\">\n",
       "      <th></th>\n",
       "      <th>best_picture_films</th>\n",
       "      <th>Year</th>\n",
       "      <th>best_picture_winners</th>\n",
       "      <th>best_picture_nominees</th>\n",
       "    </tr>\n",
       "  </thead>\n",
       "  <tbody>\n",
       "    <tr>\n",
       "      <th>0</th>\n",
       "      <td>Parasite</td>\n",
       "      <td>2019</td>\n",
       "      <td>1</td>\n",
       "      <td>0</td>\n",
       "    </tr>\n",
       "    <tr>\n",
       "      <th>1</th>\n",
       "      <td>The Irishman</td>\n",
       "      <td>2019</td>\n",
       "      <td>0</td>\n",
       "      <td>1</td>\n",
       "    </tr>\n",
       "    <tr>\n",
       "      <th>2</th>\n",
       "      <td>1917</td>\n",
       "      <td>2019</td>\n",
       "      <td>0</td>\n",
       "      <td>1</td>\n",
       "    </tr>\n",
       "    <tr>\n",
       "      <th>3</th>\n",
       "      <td>Joker</td>\n",
       "      <td>2019</td>\n",
       "      <td>0</td>\n",
       "      <td>1</td>\n",
       "    </tr>\n",
       "    <tr>\n",
       "      <th>4</th>\n",
       "      <td>Once Upon a Time... in Hollywood</td>\n",
       "      <td>2019</td>\n",
       "      <td>0</td>\n",
       "      <td>1</td>\n",
       "    </tr>\n",
       "  </tbody>\n",
       "</table>\n",
       "</div>"
      ],
      "text/plain": [
       "                 best_picture_films  Year  best_picture_winners  \\\n",
       "0                          Parasite  2019                     1   \n",
       "1                      The Irishman  2019                     0   \n",
       "2                              1917  2019                     0   \n",
       "3                             Joker  2019                     0   \n",
       "4  Once Upon a Time... in Hollywood  2019                     0   \n",
       "\n",
       "   best_picture_nominees  \n",
       "0                      0  \n",
       "1                      1  \n",
       "2                      1  \n",
       "3                      1  \n",
       "4                      1  "
      ]
     },
     "execution_count": 10,
     "metadata": {},
     "output_type": "execute_result"
    }
   ],
   "source": [
    "best_picture = pd.DataFrame(data_best_picture)  \n",
    "best_picture.head()"
   ]
  },
  {
   "cell_type": "markdown",
   "id": "638d2809",
   "metadata": {},
   "source": [
    "# This cell of code is saving the dataframes as csv files in my local machine"
   ]
  },
  {
   "cell_type": "code",
   "execution_count": 11,
   "id": "3eb83d03",
   "metadata": {},
   "outputs": [],
   "source": [
    "best_picture.to_csv('C:/Users/micky/best_picture.csv', index=True) \n",
    "best_edit.to_csv('C:/Users/micky/best_edit.csv', index=True)"
   ]
  },
  {
   "cell_type": "markdown",
   "id": "8058a184",
   "metadata": {},
   "source": [
    "# Creating a SQL database in order to store the data in mormalized tables"
   ]
  },
  {
   "cell_type": "code",
   "execution_count": 12,
   "id": "516aa248",
   "metadata": {},
   "outputs": [],
   "source": [
    "# Connect to the SQLite database\n",
    "conn = sqlite3.connect('oscars.db')\n",
    "cursor = conn.cursor()\n",
    "\n",
    "cursor.execute(\"DROP TABLE IF EXISTS best_picture\")\n",
    "\n",
    "# Create a table to store the CSV data\n",
    "cursor.execute('''\n",
    "    CREATE TABLE best_picture (\n",
    "        index_col INTEGER PRIMARY KEY,\n",
    "        best_picture_films TEXT,\n",
    "        Year INTEGER, \n",
    "        best_picture_winners INTEGER, \n",
    "        best_picture_nominees INTEGER\n",
    "    )\n",
    "''')\n",
    "\n",
    "# Open and read the CSV file\n",
    "with open('best_picture.csv', 'r') as file:\n",
    "    csv_reader = csv.reader(file)\n",
    "    next(csv_reader)  # Skip the header row if it exists\n",
    "\n",
    "    # Insert each row of the CSV into the table\n",
    "    for row in csv_reader:\n",
    "        cursor.execute('INSERT INTO best_picture (index_col, best_picture_films, Year, best_picture_winners, best_picture_nominees) VALUES (?, ?, ?,?,?)', row)\n",
    "\n",
    "# Commit the changes and close the connection\n",
    "conn.commit()"
   ]
  },
  {
   "cell_type": "code",
   "execution_count": 13,
   "id": "cf3d9263",
   "metadata": {},
   "outputs": [],
   "source": [
    "# Connect to the SQLite database\n",
    "conn = sqlite3.connect('oscars.db')\n",
    "cursor = conn.cursor()\n",
    "\n",
    "cursor.execute(\"DROP TABLE IF EXISTS best_edit\")\n",
    "\n",
    "# Create a table to store the CSV data\n",
    "cursor.execute('''\n",
    "    CREATE TABLE best_edit (\n",
    "        index_col INTEGER PRIMARY KEY,\n",
    "        best_edit_films TEXT,\n",
    "        Year INTEGER, \n",
    "        best_edit_winners INTEGER, \n",
    "        best_edit_nominees INTEGER\n",
    "    )\n",
    "''')\n",
    "\n",
    "# Open and read the CSV file\n",
    "with open('best_edit.csv', 'r') as file:\n",
    "    csv_reader = csv.reader(file)\n",
    "    next(csv_reader)  # Skip the header row if it exists\n",
    "\n",
    "    # Insert each row of the CSV into the table\n",
    "    for row in csv_reader:\n",
    "        cursor.execute('INSERT INTO best_edit (index_col, best_edit_films, Year, best_edit_winners, best_edit_nominees) VALUES (?, ?, ?,?,?)', row)\n",
    "\n",
    "# Commit the changes and close the connection\n",
    "conn.commit()"
   ]
  },
  {
   "cell_type": "markdown",
   "id": "8b5c166c",
   "metadata": {},
   "source": [
    "# This SQL query is combining the best_picture and best_edit"
   ]
  },
  {
   "cell_type": "code",
   "execution_count": 14,
   "id": "2d6e452a",
   "metadata": {},
   "outputs": [
    {
     "data": {
      "text/html": [
       "<div>\n",
       "<style scoped>\n",
       "    .dataframe tbody tr th:only-of-type {\n",
       "        vertical-align: middle;\n",
       "    }\n",
       "\n",
       "    .dataframe tbody tr th {\n",
       "        vertical-align: top;\n",
       "    }\n",
       "\n",
       "    .dataframe thead th {\n",
       "        text-align: right;\n",
       "    }\n",
       "</style>\n",
       "<table border=\"1\" class=\"dataframe\">\n",
       "  <thead>\n",
       "    <tr style=\"text-align: right;\">\n",
       "      <th></th>\n",
       "      <th>best_picture_films</th>\n",
       "      <th>best_picture_winners</th>\n",
       "      <th>best_picture_nominees</th>\n",
       "      <th>best_edit_films</th>\n",
       "      <th>best_edit_winners</th>\n",
       "      <th>best_edit_nominees</th>\n",
       "    </tr>\n",
       "  </thead>\n",
       "  <tbody>\n",
       "    <tr>\n",
       "      <th>0</th>\n",
       "      <td>Parasite</td>\n",
       "      <td>1</td>\n",
       "      <td>0</td>\n",
       "      <td>Ford v Ferrari</td>\n",
       "      <td>1</td>\n",
       "      <td>0</td>\n",
       "    </tr>\n",
       "    <tr>\n",
       "      <th>1</th>\n",
       "      <td>The Irishman</td>\n",
       "      <td>0</td>\n",
       "      <td>1</td>\n",
       "      <td>The Irishman</td>\n",
       "      <td>0</td>\n",
       "      <td>1</td>\n",
       "    </tr>\n",
       "    <tr>\n",
       "      <th>2</th>\n",
       "      <td>1917</td>\n",
       "      <td>0</td>\n",
       "      <td>1</td>\n",
       "      <td>Jojo Rabbit</td>\n",
       "      <td>0</td>\n",
       "      <td>1</td>\n",
       "    </tr>\n",
       "    <tr>\n",
       "      <th>3</th>\n",
       "      <td>Joker</td>\n",
       "      <td>0</td>\n",
       "      <td>1</td>\n",
       "      <td>Joker</td>\n",
       "      <td>0</td>\n",
       "      <td>1</td>\n",
       "    </tr>\n",
       "    <tr>\n",
       "      <th>4</th>\n",
       "      <td>Once Upon a Time... in Hollywood</td>\n",
       "      <td>0</td>\n",
       "      <td>1</td>\n",
       "      <td>Parasite</td>\n",
       "      <td>0</td>\n",
       "      <td>1</td>\n",
       "    </tr>\n",
       "  </tbody>\n",
       "</table>\n",
       "</div>"
      ],
      "text/plain": [
       "                 best_picture_films  best_picture_winners  \\\n",
       "0                          Parasite                     1   \n",
       "1                      The Irishman                     0   \n",
       "2                              1917                     0   \n",
       "3                             Joker                     0   \n",
       "4  Once Upon a Time... in Hollywood                     0   \n",
       "\n",
       "   best_picture_nominees best_edit_films  best_edit_winners  \\\n",
       "0                      0  Ford v Ferrari                  1   \n",
       "1                      1    The Irishman                  0   \n",
       "2                      1     Jojo Rabbit                  0   \n",
       "3                      1           Joker                  0   \n",
       "4                      1        Parasite                  0   \n",
       "\n",
       "   best_edit_nominees  \n",
       "0                   0  \n",
       "1                   1  \n",
       "2                   1  \n",
       "3                   1  \n",
       "4                   1  "
      ]
     },
     "execution_count": 14,
     "metadata": {},
     "output_type": "execute_result"
    }
   ],
   "source": [
    "query = '''\n",
    "    SELECT best_picture.best_picture_films, best_picture.best_picture_winners, best_picture.best_picture_nominees, best_edit.best_edit_films, best_edit.best_edit_winners, \n",
    "    best_edit.best_edit_nominees\n",
    "    FROM best_picture\n",
    "    JOIN best_edit ON best_picture.index_col = best_edit.index_col\n",
    "''' \n",
    "df = pd.read_sql_query(query, conn)  \n",
    "df.fillna(0, inplace=True)\n",
    "df.head()"
   ]
  },
  {
   "cell_type": "markdown",
   "id": "18ccb538",
   "metadata": {},
   "source": [
    "# Prepping X and y for scikit-learn: \n",
    "- The features will be the winners and nominees for best film editing and the target will be the best picture winner"
   ]
  },
  {
   "cell_type": "code",
   "execution_count": 15,
   "id": "ae02d39a",
   "metadata": {},
   "outputs": [],
   "source": [
    "X = df[['best_edit_winners', 'best_edit_nominees']]\n",
    "y= df['best_picture_winners']"
   ]
  },
  {
   "cell_type": "markdown",
   "id": "66eef402",
   "metadata": {},
   "source": [
    "# cross-validation for parameter tuning: \n",
    "- In this cell of code, cross-validation is being performer in order to determine which parameter is better to use for the models. In this case, the best parameter is n_neighbors: 2"
   ]
  },
  {
   "cell_type": "code",
   "execution_count": 16,
   "id": "9866065c",
   "metadata": {},
   "outputs": [
    {
     "data": {
      "text/plain": [
       "0.82"
      ]
     },
     "execution_count": 16,
     "metadata": {},
     "output_type": "execute_result"
    }
   ],
   "source": [
    "k_range = list(range(1, 31))\n",
    "k_scores = []\n",
    "for k in k_range:\n",
    "    knn = KNeighborsClassifier(n_neighbors=k)\n",
    "    scores = cross_val_score(knn, X, y, cv=10, scoring='accuracy')\n",
    "    k_scores.append(scores.mean())\n",
    "scores.mean()"
   ]
  },
  {
   "cell_type": "code",
   "execution_count": 17,
   "id": "afba304b",
   "metadata": {},
   "outputs": [
    {
     "data": {
      "text/plain": [
       "Text(0, 0.5, 'Cross-Validated Accuracy')"
      ]
     },
     "execution_count": 17,
     "metadata": {},
     "output_type": "execute_result"
    },
    {
     "data": {
      "image/png": "[encoded data removed]",
      "text/plain": [
       "<Figure size 640x480 with 1 Axes>"
      ]
     },
     "metadata": {},
     "output_type": "display_data"
    }
   ],
   "source": [
    "# plot the value of K for KNN (x-axis) versus the cross-validated accuracy (y-axis)\n",
    "plt.plot(k_range, k_scores)\n",
    "plt.xlabel('Value of K for KNN')\n",
    "plt.ylabel('Cross-Validated Accuracy')"
   ]
  },
  {
   "cell_type": "code",
   "execution_count": 18,
   "id": "354a3bb5",
   "metadata": {},
   "outputs": [
    {
     "data": {
      "text/plain": [
       "GridSearchCV(cv=10, estimator=KNeighborsClassifier(),\n",
       "             param_grid={'n_neighbors': [1, 2, 3, 4, 5, 6, 7, 8, 9, 10, 11, 12,\n",
       "                                         13, 14, 15, 16, 17, 18, 19, 20, 21, 22,\n",
       "                                         23, 24, 25, 26, 27, 28, 29, 30]},\n",
       "             scoring='accuracy')"
      ]
     },
     "execution_count": 18,
     "metadata": {},
     "output_type": "execute_result"
    }
   ],
   "source": [
    "knn = KNeighborsClassifier(n_neighbors=5)\n",
    "k_range = list(range(1, 31)) \n",
    "param_grid = dict(n_neighbors=k_range) \n",
    "grid = GridSearchCV(knn, param_grid, cv=10, scoring='accuracy') \n",
    "grid.fit(X, y) "
   ]
  },
  {
   "cell_type": "code",
   "execution_count": 19,
   "id": "0d6d742c",
   "metadata": {},
   "outputs": [
    {
     "name": "stdout",
     "output_type": "stream",
     "text": [
      "0.82\n",
      "{'n_neighbors': 2}\n",
      "KNeighborsClassifier(n_neighbors=2)\n"
     ]
    }
   ],
   "source": [
    "print(grid.best_score_)\n",
    "print(grid.best_params_) \n",
    "print(grid.best_estimator_)"
   ]
  },
  {
   "cell_type": "markdown",
   "id": "f4b1eaae",
   "metadata": {},
   "source": [
    "# Cross validation for model selection: \n",
    "-The first model is the KNeighborsClassifier in which the best parameter is n_neighbors = 2\n",
    "-The second model is logistic regressing \n",
    "-The third model is linear regression and the Root Mean Squared Error (RMSE). The lower the RMSE, the less error-prone the model is."
   ]
  },
  {
   "cell_type": "code",
   "execution_count": 20,
   "id": "d102c492",
   "metadata": {},
   "outputs": [
    {
     "name": "stdout",
     "output_type": "stream",
     "text": [
      "0.82\n"
     ]
    }
   ],
   "source": [
    "##10-fold cross-validation with the best KNN model\n",
    "knn = KNeighborsClassifier(n_neighbors=2)\n",
    "print(cross_val_score(knn, X, y, cv=10, scoring='accuracy').mean())"
   ]
  },
  {
   "cell_type": "code",
   "execution_count": 21,
   "id": "1aa5c926",
   "metadata": {},
   "outputs": [
    {
     "name": "stdout",
     "output_type": "stream",
     "text": [
      "0.82\n"
     ]
    }
   ],
   "source": [
    "# 10-fold cross-validation with logistic regression \n",
    "logreg = LogisticRegression(solver='liblinear')\n",
    "print(cross_val_score(logreg, X, y, cv=10, scoring='accuracy').mean())"
   ]
  },
  {
   "cell_type": "code",
   "execution_count": 22,
   "id": "9ef34e42",
   "metadata": {},
   "outputs": [
    {
     "name": "stdout",
     "output_type": "stream",
     "text": [
      "0.3448420154578035\n"
     ]
    }
   ],
   "source": [
    "# Linear regression prediction and RMSE\n",
    "X_train, X_test, y_train, y_test = train_test_split(X, y, random_state=1) \n",
    "linreg = LinearRegression() \n",
    "linreg.fit(X_train, y_train) \n",
    "y_pred = linreg.predict(X_test) \n",
    "print(np.sqrt(metrics.mean_squared_error(y_test, y_pred)))"
   ]
  },
  {
   "cell_type": "code",
   "execution_count": 23,
   "id": "8e3a2316",
   "metadata": {},
   "outputs": [
    {
     "data": {
      "text/plain": [
       "<seaborn.axisgrid.FacetGrid at 0x2ae99bf0a90>"
      ]
     },
     "execution_count": 23,
     "metadata": {},
     "output_type": "execute_result"
    },
    {
     "data": {
      "image/png": "[encoded data removed]",
      "text/plain": [
       "<Figure size 500x500 with 1 Axes>"
      ]
     },
     "metadata": {},
     "output_type": "display_data"
    }
   ],
   "source": [
    "#Show best picture winners (1). and Nominees count\n",
    "sns.displot(df['best_picture_winners']) "
   ]
  },
  {
   "cell_type": "code",
   "execution_count": 24,
   "id": "ce717adc",
   "metadata": {},
   "outputs": [
    {
     "data": {
      "text/plain": [
       "<seaborn.axisgrid.FacetGrid at 0x2ae9679a6a0>"
      ]
     },
     "execution_count": 24,
     "metadata": {},
     "output_type": "execute_result"
    },
    {
     "data": {
      "image/png": "[encoded data removed]",
      "text/plain": [
       "<Figure size 500x500 with 1 Axes>"
      ]
     },
     "metadata": {},
     "output_type": "display_data"
    }
   ],
   "source": [
    "#Show best film editing winners (1). and Nominees count\n",
    "sns.displot(df['best_edit_winners']) "
   ]
  },
  {
   "cell_type": "code",
   "execution_count": 27,
   "id": "ac684138",
   "metadata": {
    "slideshow": {
     "slide_type": "slide"
    }
   },
   "outputs": [
    {
     "name": "stdout",
     "output_type": "stream",
     "text": [
      "Requirement already satisfied: nbconvert[webpdf] in c:\\users\\micky\\anaconda3\\lib\\site-packages (6.4.4)\n",
      "Requirement already satisfied: mistune<2,>=0.8.1 in c:\\users\\micky\\anaconda3\\lib\\site-packages (from nbconvert[webpdf]) (0.8.4)\n",
      "Requirement already satisfied: pygments>=2.4.1 in c:\\users\\micky\\anaconda3\\lib\\site-packages (from nbconvert[webpdf]) (2.11.2)\n",
      "Requirement already satisfied: jupyter-core in c:\\users\\micky\\anaconda3\\lib\\site-packages (from nbconvert[webpdf]) (4.11.1)\n",
      "Requirement already satisfied: pandocfilters>=1.4.1 in c:\\users\\micky\\anaconda3\\lib\\site-packages (from nbconvert[webpdf]) (1.5.0)\n",
      "Requirement already satisfied: nbformat>=4.4 in c:\\users\\micky\\anaconda3\\lib\\site-packages (from nbconvert[webpdf]) (5.5.0)\n",
      "Requirement already satisfied: defusedxml in c:\\users\\micky\\anaconda3\\lib\\site-packages (from nbconvert[webpdf]) (0.7.1)\n",
      "Requirement already satisfied: beautifulsoup4 in c:\\users\\micky\\anaconda3\\lib\\site-packages (from nbconvert[webpdf]) (4.11.1)\n",
      "Requirement already satisfied: jinja2>=2.4 in c:\\users\\micky\\anaconda3\\lib\\site-packages (from nbconvert[webpdf]) (2.11.3)\n",
      "Requirement already satisfied: nbclient<0.6.0,>=0.5.0 in c:\\users\\micky\\anaconda3\\lib\\site-packages (from nbconvert[webpdf]) (0.5.13)\n",
      "Requirement already satisfied: testpath in c:\\users\\micky\\anaconda3\\lib\\site-packages (from nbconvert[webpdf]) (0.6.0)\n",
      "Requirement already satisfied: traitlets>=5.0 in c:\\users\\micky\\anaconda3\\lib\\site-packages (from nbconvert[webpdf]) (5.1.1)\n",
      "Requirement already satisfied: entrypoints>=0.2.2 in c:\\users\\micky\\anaconda3\\lib\\site-packages (from nbconvert[webpdf]) (0.4)\n",
      "Requirement already satisfied: jupyterlab-pygments in c:\\users\\micky\\anaconda3\\lib\\site-packages (from nbconvert[webpdf]) (0.1.2)\n",
      "Requirement already satisfied: bleach in c:\\users\\micky\\anaconda3\\lib\\site-packages (from nbconvert[webpdf]) (4.1.0)\n",
      "Collecting pyppeteer<1.1,>=1\n",
      "  Downloading pyppeteer-1.0.2-py3-none-any.whl (83 kB)\n",
      "     ---------------------------------------- 83.4/83.4 kB 4.6 MB/s eta 0:00:00\n",
      "Requirement already satisfied: MarkupSafe>=0.23 in c:\\users\\micky\\anaconda3\\lib\\site-packages (from jinja2>=2.4->nbconvert[webpdf]) (2.0.1)\n",
      "Requirement already satisfied: nest-asyncio in c:\\users\\micky\\anaconda3\\lib\\site-packages (from nbclient<0.6.0,>=0.5.0->nbconvert[webpdf]) (1.5.5)\n",
      "Requirement already satisfied: jupyter-client>=6.1.5 in c:\\users\\micky\\anaconda3\\lib\\site-packages (from nbclient<0.6.0,>=0.5.0->nbconvert[webpdf]) (7.3.4)\n",
      "Requirement already satisfied: fastjsonschema in c:\\users\\micky\\anaconda3\\lib\\site-packages (from nbformat>=4.4->nbconvert[webpdf]) (2.16.2)\n",
      "Requirement already satisfied: jsonschema>=2.6 in c:\\users\\micky\\anaconda3\\lib\\site-packages (from nbformat>=4.4->nbconvert[webpdf]) (4.16.0)\n",
      "Collecting pyee<9.0.0,>=8.1.0\n",
      "  Downloading pyee-8.2.2-py2.py3-none-any.whl (12 kB)\n",
      "Requirement already satisfied: appdirs<2.0.0,>=1.4.3 in c:\\users\\micky\\anaconda3\\lib\\site-packages (from pyppeteer<1.1,>=1->nbconvert[webpdf]) (1.4.4)\n",
      "Collecting websockets<11.0,>=10.0\n",
      "  Downloading websockets-10.4-cp39-cp39-win_amd64.whl (101 kB)\n",
      "     ---------------------------------------- 101.4/101.4 kB ? eta 0:00:00\n",
      "Requirement already satisfied: tqdm<5.0.0,>=4.42.1 in c:\\users\\micky\\anaconda3\\lib\\site-packages (from pyppeteer<1.1,>=1->nbconvert[webpdf]) (4.64.1)\n",
      "Requirement already satisfied: certifi>=2021 in c:\\users\\micky\\anaconda3\\lib\\site-packages (from pyppeteer<1.1,>=1->nbconvert[webpdf]) (2022.9.14)\n",
      "Requirement already satisfied: urllib3<2.0.0,>=1.25.8 in c:\\users\\micky\\anaconda3\\lib\\site-packages (from pyppeteer<1.1,>=1->nbconvert[webpdf]) (1.26.11)\n",
      "Requirement already satisfied: importlib-metadata>=1.4 in c:\\users\\micky\\anaconda3\\lib\\site-packages (from pyppeteer<1.1,>=1->nbconvert[webpdf]) (4.11.3)\n",
      "Requirement already satisfied: soupsieve>1.2 in c:\\users\\micky\\anaconda3\\lib\\site-packages (from beautifulsoup4->nbconvert[webpdf]) (2.3.1)\n",
      "Requirement already satisfied: webencodings in c:\\users\\micky\\anaconda3\\lib\\site-packages (from bleach->nbconvert[webpdf]) (0.5.1)\n",
      "Requirement already satisfied: six>=1.9.0 in c:\\users\\micky\\anaconda3\\lib\\site-packages (from bleach->nbconvert[webpdf]) (1.16.0)\n",
      "Requirement already satisfied: packaging in c:\\users\\micky\\anaconda3\\lib\\site-packages (from bleach->nbconvert[webpdf]) (21.3)\n",
      "Requirement already satisfied: pywin32>=1.0 in c:\\users\\micky\\anaconda3\\lib\\site-packages (from jupyter-core->nbconvert[webpdf]) (302)\n",
      "Requirement already satisfied: zipp>=0.5 in c:\\users\\micky\\anaconda3\\lib\\site-packages (from importlib-metadata>=1.4->pyppeteer<1.1,>=1->nbconvert[webpdf]) (3.8.0)\n",
      "Requirement already satisfied: attrs>=17.4.0 in c:\\users\\micky\\anaconda3\\lib\\site-packages (from jsonschema>=2.6->nbformat>=4.4->nbconvert[webpdf]) (21.4.0)\n",
      "Requirement already satisfied: pyrsistent!=0.17.0,!=0.17.1,!=0.17.2,>=0.14.0 in c:\\users\\micky\\anaconda3\\lib\\site-packages (from jsonschema>=2.6->nbformat>=4.4->nbconvert[webpdf]) (0.18.0)\n",
      "Requirement already satisfied: tornado>=6.0 in c:\\users\\micky\\anaconda3\\lib\\site-packages (from jupyter-client>=6.1.5->nbclient<0.6.0,>=0.5.0->nbconvert[webpdf]) (6.1)\n",
      "Requirement already satisfied: pyzmq>=23.0 in c:\\users\\micky\\anaconda3\\lib\\site-packages (from jupyter-client>=6.1.5->nbclient<0.6.0,>=0.5.0->nbconvert[webpdf]) (23.2.0)\n",
      "Requirement already satisfied: python-dateutil>=2.8.2 in c:\\users\\micky\\anaconda3\\lib\\site-packages (from jupyter-client>=6.1.5->nbclient<0.6.0,>=0.5.0->nbconvert[webpdf]) (2.8.2)\n",
      "Requirement already satisfied: colorama in c:\\users\\micky\\anaconda3\\lib\\site-packages (from tqdm<5.0.0,>=4.42.1->pyppeteer<1.1,>=1->nbconvert[webpdf]) (0.4.5)\n",
      "Requirement already satisfied: pyparsing!=3.0.5,>=2.0.2 in c:\\users\\micky\\anaconda3\\lib\\site-packages (from packaging->bleach->nbconvert[webpdf]) (3.0.9)\n",
      "Installing collected packages: pyee, websockets, pyppeteer\n",
      "Successfully installed pyee-8.2.2 pyppeteer-1.0.2 websockets-10.4\n",
      "Note: you may need to restart the kernel to use updated packages.\n"
     ]
    }
   ],
   "source": [
    "pip install nbconvert[webpdf]"
   ]
  },
  {
   "cell_type": "code",
   "execution_count": null,
   "id": "52cd835f",
   "metadata": {},
   "outputs": [],
   "source": []
  }
 ],
 "metadata": {
  "kernelspec": {
   "display_name": "Python 3 (ipykernel)",
   "language": "python",
   "name": "python3"
  },
  "language_info": {
   "codemirror_mode": {
    "name": "ipython",
    "version": 3
   },
   "file_extension": ".py",
   "mimetype": "text/x-python",
   "name": "python",
   "nbconvert_exporter": "python",
   "pygments_lexer": "ipython3",
   "version": "3.9.13"
  }
 },
 "nbformat": 4,
 "nbformat_minor": 5
}
